{
 "cells": [
  {
   "cell_type": "code",
   "execution_count": 904,
   "id": "e4186bfa",
   "metadata": {},
   "outputs": [],
   "source": [
    "import numpy as np\n",
    "import pandas as pd\n",
    "import matplotlib.pyplot as plt\n",
    "import seaborn as sns\n",
    "plt.rcParams[\"figure.figsize\"] = (10,6)\n",
    "pd.set_option('display.max_columns', 100)"
   ]
  },
  {
   "cell_type": "markdown",
   "id": "7a656f17",
   "metadata": {},
   "source": [
    "# DATA ISSUES"
   ]
  },
  {
   "cell_type": "code",
   "execution_count": 905,
   "id": "e63eeab4",
   "metadata": {},
   "outputs": [],
   "source": [
    "df_train = pd.read_csv(\"health_train.csv\")\n",
    "df_test  = pd.read_csv(\"health_test.csv\")"
   ]
  },
  {
   "cell_type": "code",
   "execution_count": 906,
   "id": "30c17b42",
   "metadata": {},
   "outputs": [
    {
     "data": {
      "text/html": [
       "<div>\n",
       "<style scoped>\n",
       "    .dataframe tbody tr th:only-of-type {\n",
       "        vertical-align: middle;\n",
       "    }\n",
       "\n",
       "    .dataframe tbody tr th {\n",
       "        vertical-align: top;\n",
       "    }\n",
       "\n",
       "    .dataframe thead th {\n",
       "        text-align: right;\n",
       "    }\n",
       "</style>\n",
       "<table border=\"1\" class=\"dataframe\">\n",
       "  <thead>\n",
       "    <tr style=\"text-align: right;\">\n",
       "      <th></th>\n",
       "      <th>age</th>\n",
       "      <th>sex</th>\n",
       "      <th>bmi</th>\n",
       "      <th>smoker</th>\n",
       "      <th>region</th>\n",
       "      <th>children</th>\n",
       "      <th>charges</th>\n",
       "    </tr>\n",
       "  </thead>\n",
       "  <tbody>\n",
       "    <tr>\n",
       "      <th>0</th>\n",
       "      <td>21.000000</td>\n",
       "      <td>male</td>\n",
       "      <td>25.745000</td>\n",
       "      <td>no</td>\n",
       "      <td>northeast</td>\n",
       "      <td>2</td>\n",
       "      <td>3279.868550</td>\n",
       "    </tr>\n",
       "    <tr>\n",
       "      <th>1</th>\n",
       "      <td>36.976978</td>\n",
       "      <td>female</td>\n",
       "      <td>25.744165</td>\n",
       "      <td>yes</td>\n",
       "      <td>southeast</td>\n",
       "      <td>3</td>\n",
       "      <td>21454.494239</td>\n",
       "    </tr>\n",
       "    <tr>\n",
       "      <th>2</th>\n",
       "      <td>18.000000</td>\n",
       "      <td>male</td>\n",
       "      <td>30.030000</td>\n",
       "      <td>no</td>\n",
       "      <td>southeast</td>\n",
       "      <td>1</td>\n",
       "      <td>1720.353700</td>\n",
       "    </tr>\n",
       "    <tr>\n",
       "      <th>3</th>\n",
       "      <td>37.000000</td>\n",
       "      <td>male</td>\n",
       "      <td>30.676891</td>\n",
       "      <td>no</td>\n",
       "      <td>northeast</td>\n",
       "      <td>3</td>\n",
       "      <td>6801.437542</td>\n",
       "    </tr>\n",
       "    <tr>\n",
       "      <th>4</th>\n",
       "      <td>58.000000</td>\n",
       "      <td>male</td>\n",
       "      <td>32.010000</td>\n",
       "      <td>no</td>\n",
       "      <td>southeast</td>\n",
       "      <td>1</td>\n",
       "      <td>11946.625900</td>\n",
       "    </tr>\n",
       "  </tbody>\n",
       "</table>\n",
       "</div>"
      ],
      "text/plain": [
       "         age     sex        bmi smoker     region  children       charges\n",
       "0  21.000000    male  25.745000     no  northeast         2   3279.868550\n",
       "1  36.976978  female  25.744165    yes  southeast         3  21454.494239\n",
       "2  18.000000    male  30.030000     no  southeast         1   1720.353700\n",
       "3  37.000000    male  30.676891     no  northeast         3   6801.437542\n",
       "4  58.000000    male  32.010000     no  southeast         1  11946.625900"
      ]
     },
     "execution_count": 906,
     "metadata": {},
     "output_type": "execute_result"
    }
   ],
   "source": [
    "df_train.head()"
   ]
  },
  {
   "cell_type": "code",
   "execution_count": 907,
   "id": "8b7c2963",
   "metadata": {},
   "outputs": [
    {
     "data": {
      "text/html": [
       "<div>\n",
       "<style scoped>\n",
       "    .dataframe tbody tr th:only-of-type {\n",
       "        vertical-align: middle;\n",
       "    }\n",
       "\n",
       "    .dataframe tbody tr th {\n",
       "        vertical-align: top;\n",
       "    }\n",
       "\n",
       "    .dataframe thead th {\n",
       "        text-align: right;\n",
       "    }\n",
       "</style>\n",
       "<table border=\"1\" class=\"dataframe\">\n",
       "  <thead>\n",
       "    <tr style=\"text-align: right;\">\n",
       "      <th></th>\n",
       "      <th>age</th>\n",
       "      <th>bmi</th>\n",
       "      <th>children</th>\n",
       "      <th>charges</th>\n",
       "    </tr>\n",
       "  </thead>\n",
       "  <tbody>\n",
       "    <tr>\n",
       "      <th>count</th>\n",
       "      <td>2500.000000</td>\n",
       "      <td>2500.000000</td>\n",
       "      <td>2500.000000</td>\n",
       "      <td>2500.000000</td>\n",
       "    </tr>\n",
       "    <tr>\n",
       "      <th>mean</th>\n",
       "      <td>39.003033</td>\n",
       "      <td>30.575497</td>\n",
       "      <td>2.488400</td>\n",
       "      <td>12679.311518</td>\n",
       "    </tr>\n",
       "    <tr>\n",
       "      <th>std</th>\n",
       "      <td>12.264536</td>\n",
       "      <td>5.390169</td>\n",
       "      <td>1.707346</td>\n",
       "      <td>10593.270485</td>\n",
       "    </tr>\n",
       "    <tr>\n",
       "      <th>min</th>\n",
       "      <td>18.000000</td>\n",
       "      <td>15.960000</td>\n",
       "      <td>0.000000</td>\n",
       "      <td>1121.873900</td>\n",
       "    </tr>\n",
       "    <tr>\n",
       "      <th>25%</th>\n",
       "      <td>28.845667</td>\n",
       "      <td>26.717647</td>\n",
       "      <td>1.000000</td>\n",
       "      <td>5612.780878</td>\n",
       "    </tr>\n",
       "    <tr>\n",
       "      <th>50%</th>\n",
       "      <td>39.350208</td>\n",
       "      <td>30.200000</td>\n",
       "      <td>2.000000</td>\n",
       "      <td>9455.047274</td>\n",
       "    </tr>\n",
       "    <tr>\n",
       "      <th>75%</th>\n",
       "      <td>48.688741</td>\n",
       "      <td>34.046166</td>\n",
       "      <td>4.000000</td>\n",
       "      <td>14440.628060</td>\n",
       "    </tr>\n",
       "    <tr>\n",
       "      <th>max</th>\n",
       "      <td>64.000000</td>\n",
       "      <td>53.130000</td>\n",
       "      <td>5.000000</td>\n",
       "      <td>63770.428010</td>\n",
       "    </tr>\n",
       "  </tbody>\n",
       "</table>\n",
       "</div>"
      ],
      "text/plain": [
       "               age          bmi     children       charges\n",
       "count  2500.000000  2500.000000  2500.000000   2500.000000\n",
       "mean     39.003033    30.575497     2.488400  12679.311518\n",
       "std      12.264536     5.390169     1.707346  10593.270485\n",
       "min      18.000000    15.960000     0.000000   1121.873900\n",
       "25%      28.845667    26.717647     1.000000   5612.780878\n",
       "50%      39.350208    30.200000     2.000000   9455.047274\n",
       "75%      48.688741    34.046166     4.000000  14440.628060\n",
       "max      64.000000    53.130000     5.000000  63770.428010"
      ]
     },
     "execution_count": 907,
     "metadata": {},
     "output_type": "execute_result"
    }
   ],
   "source": [
    "df_train.describe()"
   ]
  },
  {
   "cell_type": "code",
   "execution_count": 908,
   "id": "9a3c5572",
   "metadata": {},
   "outputs": [
    {
     "data": {
      "text/html": [
       "<div>\n",
       "<style scoped>\n",
       "    .dataframe tbody tr th:only-of-type {\n",
       "        vertical-align: middle;\n",
       "    }\n",
       "\n",
       "    .dataframe tbody tr th {\n",
       "        vertical-align: top;\n",
       "    }\n",
       "\n",
       "    .dataframe thead th {\n",
       "        text-align: right;\n",
       "    }\n",
       "</style>\n",
       "<table border=\"1\" class=\"dataframe\">\n",
       "  <thead>\n",
       "    <tr style=\"text-align: right;\">\n",
       "      <th></th>\n",
       "      <th>age</th>\n",
       "      <th>sex</th>\n",
       "      <th>bmi</th>\n",
       "      <th>smoker</th>\n",
       "      <th>region</th>\n",
       "      <th>children</th>\n",
       "    </tr>\n",
       "  </thead>\n",
       "  <tbody>\n",
       "    <tr>\n",
       "      <th>0</th>\n",
       "      <td>39.296556</td>\n",
       "      <td>male</td>\n",
       "      <td>29.978109</td>\n",
       "      <td>no</td>\n",
       "      <td>northwest</td>\n",
       "      <td>4</td>\n",
       "    </tr>\n",
       "    <tr>\n",
       "      <th>1</th>\n",
       "      <td>40.367560</td>\n",
       "      <td>female</td>\n",
       "      <td>27.927669</td>\n",
       "      <td>no</td>\n",
       "      <td>southeast</td>\n",
       "      <td>5</td>\n",
       "    </tr>\n",
       "    <tr>\n",
       "      <th>2</th>\n",
       "      <td>32.881563</td>\n",
       "      <td>male</td>\n",
       "      <td>41.576865</td>\n",
       "      <td>no</td>\n",
       "      <td>southwest</td>\n",
       "      <td>5</td>\n",
       "    </tr>\n",
       "    <tr>\n",
       "      <th>3</th>\n",
       "      <td>62.000000</td>\n",
       "      <td>female</td>\n",
       "      <td>30.495000</td>\n",
       "      <td>no</td>\n",
       "      <td>northwest</td>\n",
       "      <td>2</td>\n",
       "    </tr>\n",
       "    <tr>\n",
       "      <th>4</th>\n",
       "      <td>32.476173</td>\n",
       "      <td>male</td>\n",
       "      <td>30.322774</td>\n",
       "      <td>yes</td>\n",
       "      <td>northeast</td>\n",
       "      <td>4</td>\n",
       "    </tr>\n",
       "  </tbody>\n",
       "</table>\n",
       "</div>"
      ],
      "text/plain": [
       "         age     sex        bmi smoker     region  children\n",
       "0  39.296556    male  29.978109     no  northwest         4\n",
       "1  40.367560  female  27.927669     no  southeast         5\n",
       "2  32.881563    male  41.576865     no  southwest         5\n",
       "3  62.000000  female  30.495000     no  northwest         2\n",
       "4  32.476173    male  30.322774    yes  northeast         4"
      ]
     },
     "execution_count": 908,
     "metadata": {},
     "output_type": "execute_result"
    }
   ],
   "source": [
    "df_test.head()"
   ]
  },
  {
   "cell_type": "code",
   "execution_count": null,
   "id": "7c7d813b",
   "metadata": {},
   "outputs": [],
   "source": []
  },
  {
   "cell_type": "code",
   "execution_count": 909,
   "id": "9c30c8e1",
   "metadata": {},
   "outputs": [
    {
     "data": {
      "text/plain": [
       "18.000000    57\n",
       "19.000000    52\n",
       "48.000000    43\n",
       "39.000000    43\n",
       "33.000000    35\n",
       "             ..\n",
       "50.783648     1\n",
       "51.874688     1\n",
       "45.355580     1\n",
       "30.349726     1\n",
       "36.833818     1\n",
       "Name: age, Length: 1347, dtype: int64"
      ]
     },
     "execution_count": 909,
     "metadata": {},
     "output_type": "execute_result"
    }
   ],
   "source": [
    "df_train.age.value_counts()"
   ]
  },
  {
   "cell_type": "code",
   "execution_count": 910,
   "id": "9b65fa93",
   "metadata": {},
   "outputs": [],
   "source": [
    "df_train[\"age\"]=df_train.age.round()"
   ]
  },
  {
   "cell_type": "code",
   "execution_count": 911,
   "id": "d6b48e65",
   "metadata": {},
   "outputs": [
    {
     "data": {
      "text/plain": [
       "32.300000    9\n",
       "28.310000    8\n",
       "33.330000    7\n",
       "31.350000    7\n",
       "38.060000    7\n",
       "            ..\n",
       "25.733791    1\n",
       "30.073584    1\n",
       "33.390884    1\n",
       "30.777848    1\n",
       "36.640579    1\n",
       "Name: bmi, Length: 2008, dtype: int64"
      ]
     },
     "execution_count": 911,
     "metadata": {},
     "output_type": "execute_result"
    }
   ],
   "source": [
    "df_train.bmi.value_counts()"
   ]
  },
  {
   "cell_type": "markdown",
   "id": "7d6cb1cb",
   "metadata": {},
   "source": [
    "# EDA"
   ]
  },
  {
   "cell_type": "code",
   "execution_count": null,
   "id": "d4e825e9",
   "metadata": {},
   "outputs": [],
   "source": []
  },
  {
   "cell_type": "code",
   "execution_count": 912,
   "id": "756135d2",
   "metadata": {},
   "outputs": [
    {
     "data": {
      "text/plain": [
       "<AxesSubplot:>"
      ]
     },
     "execution_count": 912,
     "metadata": {},
     "output_type": "execute_result"
    },
    {
     "data": {
      "image/png": "[encoded data removed]",
      "text/plain": [
       "<Figure size 720x432 with 2 Axes>"
      ]
     },
     "metadata": {
      "needs_background": "light"
     },
     "output_type": "display_data"
    }
   ],
   "source": [
    "sns.heatmap(df_train.corr(), annot = True)"
   ]
  },
  {
   "cell_type": "code",
   "execution_count": 913,
   "id": "43788b52",
   "metadata": {},
   "outputs": [
    {
     "name": "stderr",
     "output_type": "stream",
     "text": [
      "C:\\Users\\yavuz\\anaconda3\\envs\\notebook\\lib\\site-packages\\seaborn\\_decorators.py:36: FutureWarning: Pass the following variable as a keyword arg: x. From version 0.12, the only valid positional argument will be `data`, and passing other arguments without an explicit keyword will result in an error or misinterpretation.\n",
      "  warnings.warn(\n"
     ]
    },
    {
     "data": {
      "text/plain": [
       "<AxesSubplot:xlabel='bmi'>"
      ]
     },
     "execution_count": 913,
     "metadata": {},
     "output_type": "execute_result"
    },
    {
     "data": {
      "image/png": "[encoded data removed]",
      "text/plain": [
       "<Figure size 720x432 with 1 Axes>"
      ]
     },
     "metadata": {
      "needs_background": "light"
     },
     "output_type": "display_data"
    }
   ],
   "source": [
    "sns.boxplot(df_train.bmi,whis=2)"
   ]
  },
  {
   "cell_type": "code",
   "execution_count": 914,
   "id": "a87c89ab",
   "metadata": {},
   "outputs": [],
   "source": [
    "df_train=df_train[df_train.bmi<50]"
   ]
  },
  {
   "cell_type": "code",
   "execution_count": 915,
   "id": "6fa18715",
   "metadata": {},
   "outputs": [],
   "source": [
    "df_train=df_train[df_train.charges<20500]"
   ]
  },
  {
   "cell_type": "code",
   "execution_count": 916,
   "id": "d7516e01",
   "metadata": {},
   "outputs": [
    {
     "data": {
      "text/plain": [
       "215"
      ]
     },
     "execution_count": 916,
     "metadata": {},
     "output_type": "execute_result"
    }
   ],
   "source": [
    "len(df_train[df_train.charges>15000])"
   ]
  },
  {
   "cell_type": "code",
   "execution_count": 917,
   "id": "cc7e2a88",
   "metadata": {},
   "outputs": [
    {
     "name": "stderr",
     "output_type": "stream",
     "text": [
      "C:\\Users\\yavuz\\anaconda3\\envs\\notebook\\lib\\site-packages\\seaborn\\_decorators.py:36: FutureWarning: Pass the following variable as a keyword arg: x. From version 0.12, the only valid positional argument will be `data`, and passing other arguments without an explicit keyword will result in an error or misinterpretation.\n",
      "  warnings.warn(\n"
     ]
    },
    {
     "data": {
      "text/plain": [
       "<AxesSubplot:xlabel='charges'>"
      ]
     },
     "execution_count": 917,
     "metadata": {},
     "output_type": "execute_result"
    },
    {
     "data": {
      "image/png": "[encoded data removed]",
      "text/plain": [
       "<Figure size 720x432 with 1 Axes>"
      ]
     },
     "metadata": {
      "needs_background": "light"
     },
     "output_type": "display_data"
    }
   ],
   "source": [
    "sns.boxplot(df_train.charges)"
   ]
  },
  {
   "cell_type": "code",
   "execution_count": 918,
   "id": "ac22ef0d",
   "metadata": {},
   "outputs": [
    {
     "data": {
      "text/plain": [
       "<AxesSubplot:xlabel='age', ylabel='charges'>"
      ]
     },
     "execution_count": 918,
     "metadata": {},
     "output_type": "execute_result"
    },
    {
     "data": {
      "image/png": "[encoded data removed]",
      "text/plain": [
       "<Figure size 720x432 with 1 Axes>"
      ]
     },
     "metadata": {
      "needs_background": "light"
     },
     "output_type": "display_data"
    }
   ],
   "source": [
    "sns.regplot(x=\"age\",y=\"charges\",data=df_train,ci=None)"
   ]
  },
  {
   "cell_type": "code",
   "execution_count": 919,
   "id": "0411f15d",
   "metadata": {},
   "outputs": [
    {
     "data": {
      "text/plain": [
       "<seaborn.axisgrid.PairGrid at 0x28f52de0220>"
      ]
     },
     "execution_count": 919,
     "metadata": {},
     "output_type": "execute_result"
    },
    {
     "data": {
      "image/png": "[encoded data removed]",
      "text/plain": [
       "<Figure size 720x720 with 20 Axes>"
      ]
     },
     "metadata": {
      "needs_background": "light"
     },
     "output_type": "display_data"
    }
   ],
   "source": [
    "sns.pairplot(df_train)"
   ]
  },
  {
   "cell_type": "code",
   "execution_count": 920,
   "id": "342a6872",
   "metadata": {},
   "outputs": [
    {
     "data": {
      "text/plain": [
       "((451, 11), (2108, 12))"
      ]
     },
     "execution_count": 920,
     "metadata": {},
     "output_type": "execute_result"
    }
   ],
   "source": [
    "df_train=pd.get_dummies(df_train)\n",
    "df_test=pd.get_dummies(df_test)\n",
    "df_test.shape,df_train.shape"
   ]
  },
  {
   "cell_type": "markdown",
   "id": "415e3315",
   "metadata": {},
   "source": [
    "# Split and scale"
   ]
  },
  {
   "cell_type": "code",
   "execution_count": 921,
   "id": "65d1bed1",
   "metadata": {},
   "outputs": [],
   "source": [
    "y=df_train.charges\n",
    "X=df_train.drop([\"charges\"],axis=1)"
   ]
  },
  {
   "cell_type": "code",
   "execution_count": 922,
   "id": "aa584e77",
   "metadata": {},
   "outputs": [],
   "source": [
    "from sklearn.model_selection import train_test_split"
   ]
  },
  {
   "cell_type": "code",
   "execution_count": 923,
   "id": "7eab0a24",
   "metadata": {},
   "outputs": [],
   "source": [
    "X_train, X_test, y_train, y_test = train_test_split(X, y, test_size=0.3, random_state=101)"
   ]
  },
  {
   "cell_type": "code",
   "execution_count": 924,
   "id": "80b9310c",
   "metadata": {},
   "outputs": [],
   "source": [
    "from sklearn.preprocessing import StandardScaler, MinMaxScaler, RobustScaler\n",
    "\n",
    "scaler = StandardScaler()"
   ]
  },
  {
   "cell_type": "code",
   "execution_count": 925,
   "id": "f7d98c8e",
   "metadata": {},
   "outputs": [
    {
     "data": {
      "text/plain": [
       "StandardScaler()"
      ]
     },
     "execution_count": 925,
     "metadata": {},
     "output_type": "execute_result"
    }
   ],
   "source": [
    "scaler.fit(X_train)"
   ]
  },
  {
   "cell_type": "code",
   "execution_count": 926,
   "id": "c45f1efb",
   "metadata": {},
   "outputs": [
    {
     "data": {
      "text/plain": [
       "array([[ 0.73296418, -0.53684033,  0.21802958, ...,  1.76964761,\n",
       "        -0.62780561, -0.57552362],\n",
       "       [-1.26004082, -0.73322422,  1.35239865, ..., -0.56508425,\n",
       "        -0.62780561,  1.73754815],\n",
       "       [-0.67874769, -0.28284123,  0.21802958, ..., -0.56508425,\n",
       "        -0.62780561, -0.57552362],\n",
       "       ...,\n",
       "       [-1.59220832,  1.76425667, -0.91633949, ...,  1.76964761,\n",
       "        -0.62780561, -0.57552362],\n",
       "       [ 0.15167106, -0.27744817,  0.21802958, ...,  1.76964761,\n",
       "        -0.62780561, -0.57552362],\n",
       "       [-1.01091519,  3.05655771, -0.91633949, ..., -0.56508425,\n",
       "         1.59284973, -0.57552362]])"
      ]
     },
     "execution_count": 926,
     "metadata": {},
     "output_type": "execute_result"
    }
   ],
   "source": [
    "X_train_scaled = scaler.transform(X_train)  \n",
    "X_train_scaled  "
   ]
  },
  {
   "cell_type": "code",
   "execution_count": 927,
   "id": "338c7a16",
   "metadata": {},
   "outputs": [
    {
     "data": {
      "text/plain": [
       "array([[ 1.97859231, -0.96704916, -1.48352403, ..., -0.56508425,\n",
       "        -0.62780561,  1.73754815],\n",
       "       [-0.42962207,  1.80256783, -0.91633949, ..., -0.56508425,\n",
       "         1.59284973, -0.57552362],\n",
       "       [-1.01091519, -0.04758117, -0.34915496, ..., -0.56508425,\n",
       "         1.59284973, -0.57552362],\n",
       "       ...,\n",
       "       [ 1.48034106,  0.24328124,  0.78521412, ..., -0.56508425,\n",
       "        -0.62780561,  1.73754815],\n",
       "       [-0.34658019, -0.14021467,  0.78521412, ...,  1.76964761,\n",
       "        -0.62780561, -0.57552362],\n",
       "       [ 0.15167106, -0.68796358,  0.21802958, ..., -0.56508425,\n",
       "        -0.62780561, -0.57552362]])"
      ]
     },
     "execution_count": 927,
     "metadata": {},
     "output_type": "execute_result"
    }
   ],
   "source": [
    "X_test_scaled = scaler.transform(X_test)  #X-test ile x train arasındaki bilgi sızıntısını engellemiş olduk\n",
    "X_test_scaled"
   ]
  },
  {
   "cell_type": "markdown",
   "id": "0cb4c2a8",
   "metadata": {},
   "source": [
    "# Lıneer Regressıon"
   ]
  },
  {
   "cell_type": "code",
   "execution_count": 928,
   "id": "d6d013aa",
   "metadata": {},
   "outputs": [],
   "source": [
    "from sklearn.linear_model import LinearRegression\n",
    "\n",
    "lm = LinearRegression()"
   ]
  },
  {
   "cell_type": "code",
   "execution_count": 929,
   "id": "999d270e",
   "metadata": {},
   "outputs": [
    {
     "data": {
      "text/plain": [
       "LinearRegression()"
      ]
     },
     "execution_count": 929,
     "metadata": {},
     "output_type": "execute_result"
    }
   ],
   "source": [
    "lm.fit(X_train_scaled, y_train)"
   ]
  },
  {
   "cell_type": "code",
   "execution_count": 930,
   "id": "cbece0a7",
   "metadata": {},
   "outputs": [
    {
     "data": {
      "text/plain": [
       "0.6580859483889518"
      ]
     },
     "execution_count": 930,
     "metadata": {},
     "output_type": "execute_result"
    }
   ],
   "source": [
    "y_pred = lm.predict(X_test_scaled)\n",
    "y_train_pred = lm.predict(X_train_scaled)\n",
    "\n",
    "lm.score(X_test_scaled,y_test)"
   ]
  },
  {
   "cell_type": "code",
   "execution_count": 931,
   "id": "cb88b579",
   "metadata": {},
   "outputs": [],
   "source": [
    "from sklearn.metrics import mean_absolute_error, mean_squared_error, r2_score"
   ]
  },
  {
   "cell_type": "code",
   "execution_count": 932,
   "id": "5b891e5f",
   "metadata": {},
   "outputs": [],
   "source": [
    "from sklearn.metrics import mean_absolute_error, mean_squared_error, r2_score\n",
    "\n",
    "def train_val(y_train, y_train_pred, y_test, y_pred, i):\n",
    "    \n",
    "    scores = {i+\"_train\": {\"R2\" : r2_score(y_train, y_train_pred),\n",
    "    \"mae\" : mean_absolute_error(y_train, y_train_pred),\n",
    "    \"mse\" : mean_squared_error(y_train, y_train_pred),                          \n",
    "    \"rmse\" : np.sqrt(mean_squared_error(y_train, y_train_pred))},\n",
    "    \n",
    "    i+\"_test\": {\"R2\" : r2_score(y_test, y_pred),\n",
    "    \"mae\" : mean_absolute_error(y_test, y_pred),\n",
    "    \"mse\" : mean_squared_error(y_test, y_pred),\n",
    "    \"rmse\" : np.sqrt(mean_squared_error(y_test, y_pred))}}\n",
    "    \n",
    "    return pd.DataFrame(scores)"
   ]
  },
  {
   "cell_type": "code",
   "execution_count": 933,
   "id": "cefe9807",
   "metadata": {},
   "outputs": [
    {
     "data": {
      "text/html": [
       "<div>\n",
       "<style scoped>\n",
       "    .dataframe tbody tr th:only-of-type {\n",
       "        vertical-align: middle;\n",
       "    }\n",
       "\n",
       "    .dataframe tbody tr th {\n",
       "        vertical-align: top;\n",
       "    }\n",
       "\n",
       "    .dataframe thead th {\n",
       "        text-align: right;\n",
       "    }\n",
       "</style>\n",
       "<table border=\"1\" class=\"dataframe\">\n",
       "  <thead>\n",
       "    <tr style=\"text-align: right;\">\n",
       "      <th></th>\n",
       "      <th>linear_train</th>\n",
       "      <th>linear_test</th>\n",
       "    </tr>\n",
       "  </thead>\n",
       "  <tbody>\n",
       "    <tr>\n",
       "      <th>R2</th>\n",
       "      <td>6.147620e-01</td>\n",
       "      <td>6.580859e-01</td>\n",
       "    </tr>\n",
       "    <tr>\n",
       "      <th>mae</th>\n",
       "      <td>1.675595e+03</td>\n",
       "      <td>1.571269e+03</td>\n",
       "    </tr>\n",
       "    <tr>\n",
       "      <th>mse</th>\n",
       "      <td>7.849381e+06</td>\n",
       "      <td>6.652103e+06</td>\n",
       "    </tr>\n",
       "    <tr>\n",
       "      <th>rmse</th>\n",
       "      <td>2.801675e+03</td>\n",
       "      <td>2.579167e+03</td>\n",
       "    </tr>\n",
       "  </tbody>\n",
       "</table>\n",
       "</div>"
      ],
      "text/plain": [
       "      linear_train   linear_test\n",
       "R2    6.147620e-01  6.580859e-01\n",
       "mae   1.675595e+03  1.571269e+03\n",
       "mse   7.849381e+06  6.652103e+06\n",
       "rmse  2.801675e+03  2.579167e+03"
      ]
     },
     "execution_count": 933,
     "metadata": {},
     "output_type": "execute_result"
    }
   ],
   "source": [
    "ls =train_val(y_train, y_train_pred, y_test, y_pred, \"linear\") #aralrında uçurum var overfit olduğunu tesbit ettim \n",
    "ls"
   ]
  },
  {
   "cell_type": "code",
   "execution_count": 934,
   "id": "5e6ad599",
   "metadata": {},
   "outputs": [],
   "source": [
    "residuals = y_test-y_pred"
   ]
  },
  {
   "cell_type": "code",
   "execution_count": 935,
   "id": "83634cd9",
   "metadata": {},
   "outputs": [
    {
     "data": {
      "image/png": "[encoded data removed]",
      "text/plain": [
       "<Figure size 720x432 with 1 Axes>"
      ]
     },
     "metadata": {
      "needs_background": "light"
     },
     "output_type": "display_data"
    }
   ],
   "source": [
    "plt.figure(figsize = (10,6)) #residualların normal dağılıma uygun olması gerekir ki bir pattern izlemiyecek rastgele dağılacak\n",
    "sns.scatterplot(x = y_test, y = residuals) #-residuals\n",
    "plt.axhline(y = 0, color =\"r\", linestyle = \"--\")\n",
    "plt.ylabel(\"residuals\")                                             #lineer regrasyona uygunluğunu kontrol ediyoruz\n",
    "                                                                    #0 noktasi mükemmel tahmin ile gerçeklerin 0 olduğu nokta\n",
    "plt.show()   "
   ]
  },
  {
   "cell_type": "code",
   "execution_count": 936,
   "id": "31623174",
   "metadata": {},
   "outputs": [
    {
     "data": {
      "text/plain": [
       "<AxesSubplot:xlabel='charges', ylabel='Density'>"
      ]
     },
     "execution_count": 936,
     "metadata": {},
     "output_type": "execute_result"
    },
    {
     "data": {
      "image/png": "[encoded data removed]",
      "text/plain": [
       "<Figure size 720x432 with 1 Axes>"
      ]
     },
     "metadata": {
      "needs_background": "light"
     },
     "output_type": "display_data"
    }
   ],
   "source": [
    "sns.kdeplot(residuals)  "
   ]
  },
  {
   "cell_type": "markdown",
   "id": "5cefabad",
   "metadata": {},
   "source": [
    "# crossvalidate"
   ]
  },
  {
   "cell_type": "code",
   "execution_count": 937,
   "id": "93e23773",
   "metadata": {},
   "outputs": [],
   "source": [
    "from sklearn.metrics import SCORERS "
   ]
  },
  {
   "cell_type": "code",
   "execution_count": 938,
   "id": "43b2ba3d",
   "metadata": {},
   "outputs": [],
   "source": [
    "from sklearn.model_selection import cross_validate, cross_val_score"
   ]
  },
  {
   "cell_type": "code",
   "execution_count": 939,
   "id": "f1c3c3a1",
   "metadata": {},
   "outputs": [],
   "source": [
    "model = LinearRegression()\n",
    "scores = cross_validate(model, X_train_scaled, y_train, scoring = ['r2', 'neg_mean_absolute_error','neg_mean_squared_error', \\\n",
    "                                                            'neg_root_mean_squared_error'], cv = 5)"
   ]
  },
  {
   "cell_type": "code",
   "execution_count": 940,
   "id": "485ac555",
   "metadata": {},
   "outputs": [
    {
     "data": {
      "text/html": [
       "<div>\n",
       "<style scoped>\n",
       "    .dataframe tbody tr th:only-of-type {\n",
       "        vertical-align: middle;\n",
       "    }\n",
       "\n",
       "    .dataframe tbody tr th {\n",
       "        vertical-align: top;\n",
       "    }\n",
       "\n",
       "    .dataframe thead th {\n",
       "        text-align: right;\n",
       "    }\n",
       "</style>\n",
       "<table border=\"1\" class=\"dataframe\">\n",
       "  <thead>\n",
       "    <tr style=\"text-align: right;\">\n",
       "      <th></th>\n",
       "      <th>fit_time</th>\n",
       "      <th>score_time</th>\n",
       "      <th>test_r2</th>\n",
       "      <th>test_neg_mean_absolute_error</th>\n",
       "      <th>test_neg_mean_squared_error</th>\n",
       "      <th>test_neg_root_mean_squared_error</th>\n",
       "    </tr>\n",
       "  </thead>\n",
       "  <tbody>\n",
       "    <tr>\n",
       "      <th>1</th>\n",
       "      <td>0.0</td>\n",
       "      <td>0.000000</td>\n",
       "      <td>0.580847</td>\n",
       "      <td>-1668.072115</td>\n",
       "      <td>-7.679096e+06</td>\n",
       "      <td>-2771.118128</td>\n",
       "    </tr>\n",
       "    <tr>\n",
       "      <th>2</th>\n",
       "      <td>0.0</td>\n",
       "      <td>0.000000</td>\n",
       "      <td>0.641855</td>\n",
       "      <td>-1640.734366</td>\n",
       "      <td>-7.435939e+06</td>\n",
       "      <td>-2726.891828</td>\n",
       "    </tr>\n",
       "    <tr>\n",
       "      <th>3</th>\n",
       "      <td>0.0</td>\n",
       "      <td>0.015625</td>\n",
       "      <td>0.697161</td>\n",
       "      <td>-1481.493038</td>\n",
       "      <td>-5.569097e+06</td>\n",
       "      <td>-2359.893419</td>\n",
       "    </tr>\n",
       "    <tr>\n",
       "      <th>4</th>\n",
       "      <td>0.0</td>\n",
       "      <td>0.000000</td>\n",
       "      <td>0.630437</td>\n",
       "      <td>-1740.804526</td>\n",
       "      <td>-8.408015e+06</td>\n",
       "      <td>-2899.657798</td>\n",
       "    </tr>\n",
       "    <tr>\n",
       "      <th>5</th>\n",
       "      <td>0.0</td>\n",
       "      <td>0.015622</td>\n",
       "      <td>0.505026</td>\n",
       "      <td>-1922.519321</td>\n",
       "      <td>-1.056430e+07</td>\n",
       "      <td>-3250.276416</td>\n",
       "    </tr>\n",
       "  </tbody>\n",
       "</table>\n",
       "</div>"
      ],
      "text/plain": [
       "   fit_time  score_time   test_r2  test_neg_mean_absolute_error  \\\n",
       "1       0.0    0.000000  0.580847                  -1668.072115   \n",
       "2       0.0    0.000000  0.641855                  -1640.734366   \n",
       "3       0.0    0.015625  0.697161                  -1481.493038   \n",
       "4       0.0    0.000000  0.630437                  -1740.804526   \n",
       "5       0.0    0.015622  0.505026                  -1922.519321   \n",
       "\n",
       "   test_neg_mean_squared_error  test_neg_root_mean_squared_error  \n",
       "1                -7.679096e+06                      -2771.118128  \n",
       "2                -7.435939e+06                      -2726.891828  \n",
       "3                -5.569097e+06                      -2359.893419  \n",
       "4                -8.408015e+06                      -2899.657798  \n",
       "5                -1.056430e+07                      -3250.276416  "
      ]
     },
     "execution_count": 940,
     "metadata": {},
     "output_type": "execute_result"
    }
   ],
   "source": [
    "pd.DataFrame(scores, index = range(1,6))"
   ]
  },
  {
   "cell_type": "code",
   "execution_count": 941,
   "id": "bc465d11",
   "metadata": {},
   "outputs": [
    {
     "data": {
      "text/plain": [
       "test_r2                             6.110652e-01\n",
       "test_neg_mean_absolute_error       -1.690725e+03\n",
       "test_neg_mean_squared_error        -7.931289e+06\n",
       "test_neg_root_mean_squared_error   -2.801568e+03\n",
       "dtype: float64"
      ]
     },
     "execution_count": 941,
     "metadata": {},
     "output_type": "execute_result"
    }
   ],
   "source": [
    "scores = pd.DataFrame(scores, index=range(1,6))\n",
    "scores.iloc[:, 2:].mean()"
   ]
  },
  {
   "cell_type": "code",
   "execution_count": 942,
   "id": "baea6bef",
   "metadata": {},
   "outputs": [
    {
     "data": {
      "text/html": [
       "<div>\n",
       "<style scoped>\n",
       "    .dataframe tbody tr th:only-of-type {\n",
       "        vertical-align: middle;\n",
       "    }\n",
       "\n",
       "    .dataframe tbody tr th {\n",
       "        vertical-align: top;\n",
       "    }\n",
       "\n",
       "    .dataframe thead th {\n",
       "        text-align: right;\n",
       "    }\n",
       "</style>\n",
       "<table border=\"1\" class=\"dataframe\">\n",
       "  <thead>\n",
       "    <tr style=\"text-align: right;\">\n",
       "      <th></th>\n",
       "      <th>linear_train</th>\n",
       "      <th>linear_test</th>\n",
       "    </tr>\n",
       "  </thead>\n",
       "  <tbody>\n",
       "    <tr>\n",
       "      <th>R2</th>\n",
       "      <td>6.147620e-01</td>\n",
       "      <td>6.580859e-01</td>\n",
       "    </tr>\n",
       "    <tr>\n",
       "      <th>mae</th>\n",
       "      <td>1.675595e+03</td>\n",
       "      <td>1.571269e+03</td>\n",
       "    </tr>\n",
       "    <tr>\n",
       "      <th>mse</th>\n",
       "      <td>7.849381e+06</td>\n",
       "      <td>6.652103e+06</td>\n",
       "    </tr>\n",
       "    <tr>\n",
       "      <th>rmse</th>\n",
       "      <td>2.801675e+03</td>\n",
       "      <td>2.579167e+03</td>\n",
       "    </tr>\n",
       "  </tbody>\n",
       "</table>\n",
       "</div>"
      ],
      "text/plain": [
       "      linear_train   linear_test\n",
       "R2    6.147620e-01  6.580859e-01\n",
       "mae   1.675595e+03  1.571269e+03\n",
       "mse   7.849381e+06  6.652103e+06\n",
       "rmse  2.801675e+03  2.579167e+03"
      ]
     },
     "execution_count": 942,
     "metadata": {},
     "output_type": "execute_result"
    }
   ],
   "source": [
    "train_val(y_train, y_train_pred, y_test, y_pred, \"linear\")"
   ]
  },
  {
   "cell_type": "code",
   "execution_count": 943,
   "id": "b4c26f53",
   "metadata": {},
   "outputs": [
    {
     "data": {
      "text/plain": [
       "array([ 2.71779247e+03, -6.05480924e+00,  1.37244676e+03, -6.65641744e+14,\n",
       "       -6.65641744e+14,  1.28873569e+16,  1.28873569e+16, -6.04370559e+13,\n",
       "       -6.18503632e+13, -6.50276569e+13, -6.24295431e+13])"
      ]
     },
     "execution_count": 943,
     "metadata": {},
     "output_type": "execute_result"
    }
   ],
   "source": [
    "lm.coef_"
   ]
  },
  {
   "cell_type": "markdown",
   "id": "7b23bf79",
   "metadata": {},
   "source": [
    "# ridge"
   ]
  },
  {
   "cell_type": "code",
   "execution_count": 944,
   "id": "90b6a2d5",
   "metadata": {},
   "outputs": [],
   "source": [
    "from sklearn.linear_model import Ridge"
   ]
  },
  {
   "cell_type": "code",
   "execution_count": 945,
   "id": "f1ebb303",
   "metadata": {},
   "outputs": [],
   "source": [
    "ridge_model = Ridge(alpha=1, random_state=42)"
   ]
  },
  {
   "cell_type": "code",
   "execution_count": 946,
   "id": "51614cbc",
   "metadata": {},
   "outputs": [
    {
     "data": {
      "text/plain": [
       "Ridge(alpha=1, random_state=42)"
      ]
     },
     "execution_count": 946,
     "metadata": {},
     "output_type": "execute_result"
    }
   ],
   "source": [
    "ridge_model.fit(X_train_scaled, y_train)"
   ]
  },
  {
   "cell_type": "code",
   "execution_count": 947,
   "id": "d97d07f0",
   "metadata": {},
   "outputs": [],
   "source": [
    "y_pred = ridge_model.predict(X_test_scaled)\n",
    "y_train_pred = ridge_model.predict(X_train_scaled)"
   ]
  },
  {
   "cell_type": "code",
   "execution_count": 948,
   "id": "1182c28f",
   "metadata": {},
   "outputs": [
    {
     "data": {
      "text/html": [
       "<div>\n",
       "<style scoped>\n",
       "    .dataframe tbody tr th:only-of-type {\n",
       "        vertical-align: middle;\n",
       "    }\n",
       "\n",
       "    .dataframe tbody tr th {\n",
       "        vertical-align: top;\n",
       "    }\n",
       "\n",
       "    .dataframe thead th {\n",
       "        text-align: right;\n",
       "    }\n",
       "</style>\n",
       "<table border=\"1\" class=\"dataframe\">\n",
       "  <thead>\n",
       "    <tr style=\"text-align: right;\">\n",
       "      <th></th>\n",
       "      <th>ridge_train</th>\n",
       "      <th>ridge_test</th>\n",
       "    </tr>\n",
       "  </thead>\n",
       "  <tbody>\n",
       "    <tr>\n",
       "      <th>R2</th>\n",
       "      <td>6.147661e-01</td>\n",
       "      <td>6.582840e-01</td>\n",
       "    </tr>\n",
       "    <tr>\n",
       "      <th>mae</th>\n",
       "      <td>1.675238e+03</td>\n",
       "      <td>1.570802e+03</td>\n",
       "    </tr>\n",
       "    <tr>\n",
       "      <th>mse</th>\n",
       "      <td>7.849298e+06</td>\n",
       "      <td>6.648250e+06</td>\n",
       "    </tr>\n",
       "    <tr>\n",
       "      <th>rmse</th>\n",
       "      <td>2.801660e+03</td>\n",
       "      <td>2.578420e+03</td>\n",
       "    </tr>\n",
       "  </tbody>\n",
       "</table>\n",
       "</div>"
      ],
      "text/plain": [
       "       ridge_train    ridge_test\n",
       "R2    6.147661e-01  6.582840e-01\n",
       "mae   1.675238e+03  1.570802e+03\n",
       "mse   7.849298e+06  6.648250e+06\n",
       "rmse  2.801660e+03  2.578420e+03"
      ]
     },
     "execution_count": 948,
     "metadata": {},
     "output_type": "execute_result"
    }
   ],
   "source": [
    "rs = train_val(y_train, y_train_pred, y_test, y_pred, \"ridge\")\n",
    "rs"
   ]
  },
  {
   "cell_type": "code",
   "execution_count": 949,
   "id": "b46fa42b",
   "metadata": {},
   "outputs": [
    {
     "data": {
      "text/html": [
       "<div>\n",
       "<style scoped>\n",
       "    .dataframe tbody tr th:only-of-type {\n",
       "        vertical-align: middle;\n",
       "    }\n",
       "\n",
       "    .dataframe tbody tr th {\n",
       "        vertical-align: top;\n",
       "    }\n",
       "\n",
       "    .dataframe thead th {\n",
       "        text-align: right;\n",
       "    }\n",
       "</style>\n",
       "<table border=\"1\" class=\"dataframe\">\n",
       "  <thead>\n",
       "    <tr style=\"text-align: right;\">\n",
       "      <th></th>\n",
       "      <th>linear_train</th>\n",
       "      <th>linear_test</th>\n",
       "      <th>ridge_train</th>\n",
       "      <th>ridge_test</th>\n",
       "    </tr>\n",
       "  </thead>\n",
       "  <tbody>\n",
       "    <tr>\n",
       "      <th>R2</th>\n",
       "      <td>6.147620e-01</td>\n",
       "      <td>6.580859e-01</td>\n",
       "      <td>6.147661e-01</td>\n",
       "      <td>6.582840e-01</td>\n",
       "    </tr>\n",
       "    <tr>\n",
       "      <th>mae</th>\n",
       "      <td>1.675595e+03</td>\n",
       "      <td>1.571269e+03</td>\n",
       "      <td>1.675238e+03</td>\n",
       "      <td>1.570802e+03</td>\n",
       "    </tr>\n",
       "    <tr>\n",
       "      <th>mse</th>\n",
       "      <td>7.849381e+06</td>\n",
       "      <td>6.652103e+06</td>\n",
       "      <td>7.849298e+06</td>\n",
       "      <td>6.648250e+06</td>\n",
       "    </tr>\n",
       "    <tr>\n",
       "      <th>rmse</th>\n",
       "      <td>2.801675e+03</td>\n",
       "      <td>2.579167e+03</td>\n",
       "      <td>2.801660e+03</td>\n",
       "      <td>2.578420e+03</td>\n",
       "    </tr>\n",
       "  </tbody>\n",
       "</table>\n",
       "</div>"
      ],
      "text/plain": [
       "      linear_train   linear_test   ridge_train    ridge_test\n",
       "R2    6.147620e-01  6.580859e-01  6.147661e-01  6.582840e-01\n",
       "mae   1.675595e+03  1.571269e+03  1.675238e+03  1.570802e+03\n",
       "mse   7.849381e+06  6.652103e+06  7.849298e+06  6.648250e+06\n",
       "rmse  2.801675e+03  2.579167e+03  2.801660e+03  2.578420e+03"
      ]
     },
     "execution_count": 949,
     "metadata": {},
     "output_type": "execute_result"
    }
   ],
   "source": [
    "pd.concat([ls, rs], axis=1) "
   ]
  },
  {
   "cell_type": "markdown",
   "id": "098420fa",
   "metadata": {},
   "source": [
    "# Choosing best alpha value with Cross-Validation"
   ]
  },
  {
   "cell_type": "code",
   "execution_count": 950,
   "id": "ed162cf0",
   "metadata": {},
   "outputs": [],
   "source": [
    "from sklearn.linear_model import RidgeCV"
   ]
  },
  {
   "cell_type": "code",
   "execution_count": 951,
   "id": "fa9825e6",
   "metadata": {},
   "outputs": [
    {
     "data": {
      "text/plain": [
       "array([0.01, 0.02, 0.03, 0.04, 0.05, 0.06, 0.07, 0.08, 0.09, 0.1 , 0.11,\n",
       "       0.12, 0.13, 0.14, 0.15, 0.16, 0.17, 0.18, 0.19, 0.2 , 0.21, 0.22,\n",
       "       0.23, 0.24, 0.25, 0.26, 0.27, 0.28, 0.29, 0.3 , 0.31, 0.32, 0.33,\n",
       "       0.34, 0.35, 0.36, 0.37, 0.38, 0.39, 0.4 , 0.41, 0.42, 0.43, 0.44,\n",
       "       0.45, 0.46, 0.47, 0.48, 0.49, 0.5 , 0.51, 0.52, 0.53, 0.54, 0.55,\n",
       "       0.56, 0.57, 0.58, 0.59, 0.6 , 0.61, 0.62, 0.63, 0.64, 0.65, 0.66,\n",
       "       0.67, 0.68, 0.69, 0.7 , 0.71, 0.72, 0.73, 0.74, 0.75, 0.76, 0.77,\n",
       "       0.78, 0.79, 0.8 , 0.81, 0.82, 0.83, 0.84, 0.85, 0.86, 0.87, 0.88,\n",
       "       0.89, 0.9 , 0.91, 0.92, 0.93, 0.94, 0.95, 0.96, 0.97, 0.98, 0.99,\n",
       "       1.  ])"
      ]
     },
     "execution_count": 951,
     "metadata": {},
     "output_type": "execute_result"
    }
   ],
   "source": [
    "alpha_space = np.linspace(0.01, 1, 100)   #en iyi alpha modelini seçmeye lineer regrasyon overfitting\n",
    "alpha_space"
   ]
  },
  {
   "cell_type": "code",
   "execution_count": 952,
   "id": "f8ff3b43",
   "metadata": {},
   "outputs": [],
   "source": [
    "ridge_cv_model = RidgeCV(alphas=alpha_space, cv = 5, scoring= \"neg_root_mean_squared_error\")"
   ]
  },
  {
   "cell_type": "code",
   "execution_count": 953,
   "id": "5bcd800c",
   "metadata": {},
   "outputs": [
    {
     "data": {
      "text/plain": [
       "RidgeCV(alphas=array([0.01, 0.02, 0.03, 0.04, 0.05, 0.06, 0.07, 0.08, 0.09, 0.1 , 0.11,\n",
       "       0.12, 0.13, 0.14, 0.15, 0.16, 0.17, 0.18, 0.19, 0.2 , 0.21, 0.22,\n",
       "       0.23, 0.24, 0.25, 0.26, 0.27, 0.28, 0.29, 0.3 , 0.31, 0.32, 0.33,\n",
       "       0.34, 0.35, 0.36, 0.37, 0.38, 0.39, 0.4 , 0.41, 0.42, 0.43, 0.44,\n",
       "       0.45, 0.46, 0.47, 0.48, 0.49, 0.5 , 0.51, 0.52, 0.53, 0.54, 0.55,\n",
       "       0.56, 0.57, 0.58, 0.59, 0.6 , 0.61, 0.62, 0.63, 0.64, 0.65, 0.66,\n",
       "       0.67, 0.68, 0.69, 0.7 , 0.71, 0.72, 0.73, 0.74, 0.75, 0.76, 0.77,\n",
       "       0.78, 0.79, 0.8 , 0.81, 0.82, 0.83, 0.84, 0.85, 0.86, 0.87, 0.88,\n",
       "       0.89, 0.9 , 0.91, 0.92, 0.93, 0.94, 0.95, 0.96, 0.97, 0.98, 0.99,\n",
       "       1.  ]),\n",
       "        cv=5, scoring='neg_root_mean_squared_error')"
      ]
     },
     "execution_count": 953,
     "metadata": {},
     "output_type": "execute_result"
    }
   ],
   "source": [
    "ridge_cv_model.fit(X_train_scaled, y_train)"
   ]
  },
  {
   "cell_type": "code",
   "execution_count": 954,
   "id": "9d913c8b",
   "metadata": {},
   "outputs": [
    {
     "data": {
      "text/plain": [
       "0.36000000000000004"
      ]
     },
     "execution_count": 954,
     "metadata": {},
     "output_type": "execute_result"
    }
   ],
   "source": [
    "ridge_cv_model.alpha_ "
   ]
  },
  {
   "cell_type": "code",
   "execution_count": 955,
   "id": "af5275f5",
   "metadata": {},
   "outputs": [
    {
     "data": {
      "text/plain": [
       "-2801.6510192837536"
      ]
     },
     "execution_count": 955,
     "metadata": {},
     "output_type": "execute_result"
    }
   ],
   "source": [
    "ridge_cv_model.best_score_"
   ]
  },
  {
   "cell_type": "code",
   "execution_count": 956,
   "id": "b1e91797",
   "metadata": {},
   "outputs": [],
   "source": [
    "y_pred = ridge_cv_model.predict(X_test_scaled)\n",
    "y_train_pred = ridge_cv_model.predict(X_train_scaled)"
   ]
  },
  {
   "cell_type": "code",
   "execution_count": 957,
   "id": "91bb7895",
   "metadata": {},
   "outputs": [
    {
     "data": {
      "text/html": [
       "<div>\n",
       "<style scoped>\n",
       "    .dataframe tbody tr th:only-of-type {\n",
       "        vertical-align: middle;\n",
       "    }\n",
       "\n",
       "    .dataframe tbody tr th {\n",
       "        vertical-align: top;\n",
       "    }\n",
       "\n",
       "    .dataframe thead th {\n",
       "        text-align: right;\n",
       "    }\n",
       "</style>\n",
       "<table border=\"1\" class=\"dataframe\">\n",
       "  <thead>\n",
       "    <tr style=\"text-align: right;\">\n",
       "      <th></th>\n",
       "      <th>ridge_cv_train</th>\n",
       "      <th>ridge_cv_test</th>\n",
       "    </tr>\n",
       "  </thead>\n",
       "  <tbody>\n",
       "    <tr>\n",
       "      <th>R2</th>\n",
       "      <td>6.147664e-01</td>\n",
       "      <td>6.582787e-01</td>\n",
       "    </tr>\n",
       "    <tr>\n",
       "      <th>mae</th>\n",
       "      <td>1.675040e+03</td>\n",
       "      <td>1.570550e+03</td>\n",
       "    </tr>\n",
       "    <tr>\n",
       "      <th>mse</th>\n",
       "      <td>7.849293e+06</td>\n",
       "      <td>6.648353e+06</td>\n",
       "    </tr>\n",
       "    <tr>\n",
       "      <th>rmse</th>\n",
       "      <td>2.801659e+03</td>\n",
       "      <td>2.578440e+03</td>\n",
       "    </tr>\n",
       "  </tbody>\n",
       "</table>\n",
       "</div>"
      ],
      "text/plain": [
       "      ridge_cv_train  ridge_cv_test\n",
       "R2      6.147664e-01   6.582787e-01\n",
       "mae     1.675040e+03   1.570550e+03\n",
       "mse     7.849293e+06   6.648353e+06\n",
       "rmse    2.801659e+03   2.578440e+03"
      ]
     },
     "execution_count": 957,
     "metadata": {},
     "output_type": "execute_result"
    }
   ],
   "source": [
    "rcs = train_val(y_train, y_train_pred, y_test, y_pred, \"ridge_cv\")\n",
    "rcs"
   ]
  },
  {
   "cell_type": "code",
   "execution_count": 958,
   "id": "c9056d11",
   "metadata": {},
   "outputs": [
    {
     "data": {
      "text/html": [
       "<div>\n",
       "<style scoped>\n",
       "    .dataframe tbody tr th:only-of-type {\n",
       "        vertical-align: middle;\n",
       "    }\n",
       "\n",
       "    .dataframe tbody tr th {\n",
       "        vertical-align: top;\n",
       "    }\n",
       "\n",
       "    .dataframe thead th {\n",
       "        text-align: right;\n",
       "    }\n",
       "</style>\n",
       "<table border=\"1\" class=\"dataframe\">\n",
       "  <thead>\n",
       "    <tr style=\"text-align: right;\">\n",
       "      <th></th>\n",
       "      <th>linear_train</th>\n",
       "      <th>linear_test</th>\n",
       "      <th>ridge_train</th>\n",
       "      <th>ridge_test</th>\n",
       "      <th>ridge_cv_train</th>\n",
       "      <th>ridge_cv_test</th>\n",
       "    </tr>\n",
       "  </thead>\n",
       "  <tbody>\n",
       "    <tr>\n",
       "      <th>R2</th>\n",
       "      <td>6.147620e-01</td>\n",
       "      <td>6.580859e-01</td>\n",
       "      <td>6.147661e-01</td>\n",
       "      <td>6.582840e-01</td>\n",
       "      <td>6.147664e-01</td>\n",
       "      <td>6.582787e-01</td>\n",
       "    </tr>\n",
       "    <tr>\n",
       "      <th>mae</th>\n",
       "      <td>1.675595e+03</td>\n",
       "      <td>1.571269e+03</td>\n",
       "      <td>1.675238e+03</td>\n",
       "      <td>1.570802e+03</td>\n",
       "      <td>1.675040e+03</td>\n",
       "      <td>1.570550e+03</td>\n",
       "    </tr>\n",
       "    <tr>\n",
       "      <th>mse</th>\n",
       "      <td>7.849381e+06</td>\n",
       "      <td>6.652103e+06</td>\n",
       "      <td>7.849298e+06</td>\n",
       "      <td>6.648250e+06</td>\n",
       "      <td>7.849293e+06</td>\n",
       "      <td>6.648353e+06</td>\n",
       "    </tr>\n",
       "    <tr>\n",
       "      <th>rmse</th>\n",
       "      <td>2.801675e+03</td>\n",
       "      <td>2.579167e+03</td>\n",
       "      <td>2.801660e+03</td>\n",
       "      <td>2.578420e+03</td>\n",
       "      <td>2.801659e+03</td>\n",
       "      <td>2.578440e+03</td>\n",
       "    </tr>\n",
       "  </tbody>\n",
       "</table>\n",
       "</div>"
      ],
      "text/plain": [
       "      linear_train   linear_test   ridge_train    ridge_test  ridge_cv_train  \\\n",
       "R2    6.147620e-01  6.580859e-01  6.147661e-01  6.582840e-01    6.147664e-01   \n",
       "mae   1.675595e+03  1.571269e+03  1.675238e+03  1.570802e+03    1.675040e+03   \n",
       "mse   7.849381e+06  6.652103e+06  7.849298e+06  6.648250e+06    7.849293e+06   \n",
       "rmse  2.801675e+03  2.579167e+03  2.801660e+03  2.578420e+03    2.801659e+03   \n",
       "\n",
       "      ridge_cv_test  \n",
       "R2     6.582787e-01  \n",
       "mae    1.570550e+03  \n",
       "mse    6.648353e+06  \n",
       "rmse   2.578440e+03  "
      ]
     },
     "execution_count": 958,
     "metadata": {},
     "output_type": "execute_result"
    }
   ],
   "source": [
    "pd.concat([ls, rs, rcs], axis = 1)"
   ]
  },
  {
   "cell_type": "markdown",
   "id": "6263f641",
   "metadata": {},
   "source": [
    "# Lasso"
   ]
  },
  {
   "cell_type": "code",
   "execution_count": 959,
   "id": "093bab0b",
   "metadata": {},
   "outputs": [],
   "source": [
    "from sklearn.linear_model import Lasso, LassoCV"
   ]
  },
  {
   "cell_type": "code",
   "execution_count": 960,
   "id": "b6ac2417",
   "metadata": {},
   "outputs": [
    {
     "data": {
      "text/plain": [
       "Lasso(alpha=1, random_state=42)"
      ]
     },
     "execution_count": 960,
     "metadata": {},
     "output_type": "execute_result"
    }
   ],
   "source": [
    "lasso_model = Lasso(alpha=1, random_state=42)  #modeli sıfırlıyoruz parametreler aynı olmalı alınan scorlar bizi yanıltmasın diye\n",
    "lasso_model.fit(X_train_scaled, y_train)"
   ]
  },
  {
   "cell_type": "code",
   "execution_count": 961,
   "id": "0e910046",
   "metadata": {},
   "outputs": [],
   "source": [
    "y_pred = lasso_model.predict(X_test_scaled)\n",
    "y_train_pred = lasso_model.predict(X_train_scaled)"
   ]
  },
  {
   "cell_type": "code",
   "execution_count": 962,
   "id": "b3f5373d",
   "metadata": {},
   "outputs": [
    {
     "data": {
      "text/html": [
       "<div>\n",
       "<style scoped>\n",
       "    .dataframe tbody tr th:only-of-type {\n",
       "        vertical-align: middle;\n",
       "    }\n",
       "\n",
       "    .dataframe tbody tr th {\n",
       "        vertical-align: top;\n",
       "    }\n",
       "\n",
       "    .dataframe thead th {\n",
       "        text-align: right;\n",
       "    }\n",
       "</style>\n",
       "<table border=\"1\" class=\"dataframe\">\n",
       "  <thead>\n",
       "    <tr style=\"text-align: right;\">\n",
       "      <th></th>\n",
       "      <th>lasso_train</th>\n",
       "      <th>lasso_test</th>\n",
       "    </tr>\n",
       "  </thead>\n",
       "  <tbody>\n",
       "    <tr>\n",
       "      <th>R2</th>\n",
       "      <td>6.147660e-01</td>\n",
       "      <td>6.583453e-01</td>\n",
       "    </tr>\n",
       "    <tr>\n",
       "      <th>mae</th>\n",
       "      <td>1.674885e+03</td>\n",
       "      <td>1.570356e+03</td>\n",
       "    </tr>\n",
       "    <tr>\n",
       "      <th>mse</th>\n",
       "      <td>7.849301e+06</td>\n",
       "      <td>6.647057e+06</td>\n",
       "    </tr>\n",
       "    <tr>\n",
       "      <th>rmse</th>\n",
       "      <td>2.801660e+03</td>\n",
       "      <td>2.578189e+03</td>\n",
       "    </tr>\n",
       "  </tbody>\n",
       "</table>\n",
       "</div>"
      ],
      "text/plain": [
       "       lasso_train    lasso_test\n",
       "R2    6.147660e-01  6.583453e-01\n",
       "mae   1.674885e+03  1.570356e+03\n",
       "mse   7.849301e+06  6.647057e+06\n",
       "rmse  2.801660e+03  2.578189e+03"
      ]
     },
     "execution_count": 962,
     "metadata": {},
     "output_type": "execute_result"
    }
   ],
   "source": [
    "lss = train_val(y_train, y_train_pred, y_test, y_pred, \"lasso\") #model lasso ile underfit kalmış ridge ve lasso dada \n",
    "lss"
   ]
  },
  {
   "cell_type": "code",
   "execution_count": 963,
   "id": "3fb8cafe",
   "metadata": {},
   "outputs": [
    {
     "data": {
      "text/html": [
       "<div>\n",
       "<style scoped>\n",
       "    .dataframe tbody tr th:only-of-type {\n",
       "        vertical-align: middle;\n",
       "    }\n",
       "\n",
       "    .dataframe tbody tr th {\n",
       "        vertical-align: top;\n",
       "    }\n",
       "\n",
       "    .dataframe thead th {\n",
       "        text-align: right;\n",
       "    }\n",
       "</style>\n",
       "<table border=\"1\" class=\"dataframe\">\n",
       "  <thead>\n",
       "    <tr style=\"text-align: right;\">\n",
       "      <th></th>\n",
       "      <th>linear_train</th>\n",
       "      <th>linear_test</th>\n",
       "      <th>ridge_train</th>\n",
       "      <th>ridge_test</th>\n",
       "      <th>ridge_cv_train</th>\n",
       "      <th>ridge_cv_test</th>\n",
       "      <th>lasso_train</th>\n",
       "      <th>lasso_test</th>\n",
       "    </tr>\n",
       "  </thead>\n",
       "  <tbody>\n",
       "    <tr>\n",
       "      <th>R2</th>\n",
       "      <td>6.147620e-01</td>\n",
       "      <td>6.580859e-01</td>\n",
       "      <td>6.147661e-01</td>\n",
       "      <td>6.582840e-01</td>\n",
       "      <td>6.147664e-01</td>\n",
       "      <td>6.582787e-01</td>\n",
       "      <td>6.147660e-01</td>\n",
       "      <td>6.583453e-01</td>\n",
       "    </tr>\n",
       "    <tr>\n",
       "      <th>mae</th>\n",
       "      <td>1.675595e+03</td>\n",
       "      <td>1.571269e+03</td>\n",
       "      <td>1.675238e+03</td>\n",
       "      <td>1.570802e+03</td>\n",
       "      <td>1.675040e+03</td>\n",
       "      <td>1.570550e+03</td>\n",
       "      <td>1.674885e+03</td>\n",
       "      <td>1.570356e+03</td>\n",
       "    </tr>\n",
       "    <tr>\n",
       "      <th>mse</th>\n",
       "      <td>7.849381e+06</td>\n",
       "      <td>6.652103e+06</td>\n",
       "      <td>7.849298e+06</td>\n",
       "      <td>6.648250e+06</td>\n",
       "      <td>7.849293e+06</td>\n",
       "      <td>6.648353e+06</td>\n",
       "      <td>7.849301e+06</td>\n",
       "      <td>6.647057e+06</td>\n",
       "    </tr>\n",
       "    <tr>\n",
       "      <th>rmse</th>\n",
       "      <td>2.801675e+03</td>\n",
       "      <td>2.579167e+03</td>\n",
       "      <td>2.801660e+03</td>\n",
       "      <td>2.578420e+03</td>\n",
       "      <td>2.801659e+03</td>\n",
       "      <td>2.578440e+03</td>\n",
       "      <td>2.801660e+03</td>\n",
       "      <td>2.578189e+03</td>\n",
       "    </tr>\n",
       "  </tbody>\n",
       "</table>\n",
       "</div>"
      ],
      "text/plain": [
       "      linear_train   linear_test   ridge_train    ridge_test  ridge_cv_train  \\\n",
       "R2    6.147620e-01  6.580859e-01  6.147661e-01  6.582840e-01    6.147664e-01   \n",
       "mae   1.675595e+03  1.571269e+03  1.675238e+03  1.570802e+03    1.675040e+03   \n",
       "mse   7.849381e+06  6.652103e+06  7.849298e+06  6.648250e+06    7.849293e+06   \n",
       "rmse  2.801675e+03  2.579167e+03  2.801660e+03  2.578420e+03    2.801659e+03   \n",
       "\n",
       "      ridge_cv_test   lasso_train    lasso_test  \n",
       "R2     6.582787e-01  6.147660e-01  6.583453e-01  \n",
       "mae    1.570550e+03  1.674885e+03  1.570356e+03  \n",
       "mse    6.648353e+06  7.849301e+06  6.647057e+06  \n",
       "rmse   2.578440e+03  2.801660e+03  2.578189e+03  "
      ]
     },
     "execution_count": 963,
     "metadata": {},
     "output_type": "execute_result"
    }
   ],
   "source": [
    "pd.concat([ls, rs, rcs, lss], axis = 1)"
   ]
  },
  {
   "cell_type": "markdown",
   "id": "d94e53b6",
   "metadata": {},
   "source": [
    "# For Lasso CV with Default Alpha : 1"
   ]
  },
  {
   "cell_type": "code",
   "execution_count": 964,
   "id": "3e5e80d7",
   "metadata": {},
   "outputs": [],
   "source": [
    "model = Lasso(alpha=1, random_state=42)\n",
    "scores = cross_validate(model, X_train_scaled, y_train,\n",
    "                        scoring=['r2', 'neg_mean_absolute_error','neg_mean_squared_error','neg_root_mean_squared_error'], cv=5)"
   ]
  },
  {
   "cell_type": "code",
   "execution_count": 965,
   "id": "757db9c9",
   "metadata": {},
   "outputs": [
    {
     "data": {
      "text/html": [
       "<div>\n",
       "<style scoped>\n",
       "    .dataframe tbody tr th:only-of-type {\n",
       "        vertical-align: middle;\n",
       "    }\n",
       "\n",
       "    .dataframe tbody tr th {\n",
       "        vertical-align: top;\n",
       "    }\n",
       "\n",
       "    .dataframe thead th {\n",
       "        text-align: right;\n",
       "    }\n",
       "</style>\n",
       "<table border=\"1\" class=\"dataframe\">\n",
       "  <thead>\n",
       "    <tr style=\"text-align: right;\">\n",
       "      <th></th>\n",
       "      <th>fit_time</th>\n",
       "      <th>score_time</th>\n",
       "      <th>test_r2</th>\n",
       "      <th>test_neg_mean_absolute_error</th>\n",
       "      <th>test_neg_mean_squared_error</th>\n",
       "      <th>test_neg_root_mean_squared_error</th>\n",
       "    </tr>\n",
       "  </thead>\n",
       "  <tbody>\n",
       "    <tr>\n",
       "      <th>1</th>\n",
       "      <td>0.0</td>\n",
       "      <td>0.015620</td>\n",
       "      <td>0.580962</td>\n",
       "      <td>-1647.795037</td>\n",
       "      <td>-7.676998e+06</td>\n",
       "      <td>-2770.739558</td>\n",
       "    </tr>\n",
       "    <tr>\n",
       "      <th>2</th>\n",
       "      <td>0.0</td>\n",
       "      <td>0.000000</td>\n",
       "      <td>0.642066</td>\n",
       "      <td>-1641.277669</td>\n",
       "      <td>-7.431554e+06</td>\n",
       "      <td>-2726.087671</td>\n",
       "    </tr>\n",
       "    <tr>\n",
       "      <th>3</th>\n",
       "      <td>0.0</td>\n",
       "      <td>0.000000</td>\n",
       "      <td>0.697025</td>\n",
       "      <td>-1481.921642</td>\n",
       "      <td>-5.571604e+06</td>\n",
       "      <td>-2360.424467</td>\n",
       "    </tr>\n",
       "    <tr>\n",
       "      <th>4</th>\n",
       "      <td>0.0</td>\n",
       "      <td>0.000000</td>\n",
       "      <td>0.630387</td>\n",
       "      <td>-1738.379824</td>\n",
       "      <td>-8.409138e+06</td>\n",
       "      <td>-2899.851322</td>\n",
       "    </tr>\n",
       "    <tr>\n",
       "      <th>5</th>\n",
       "      <td>0.0</td>\n",
       "      <td>0.015625</td>\n",
       "      <td>0.504884</td>\n",
       "      <td>-1918.610453</td>\n",
       "      <td>-1.056733e+07</td>\n",
       "      <td>-3250.742926</td>\n",
       "    </tr>\n",
       "  </tbody>\n",
       "</table>\n",
       "</div>"
      ],
      "text/plain": [
       "   fit_time  score_time   test_r2  test_neg_mean_absolute_error  \\\n",
       "1       0.0    0.015620  0.580962                  -1647.795037   \n",
       "2       0.0    0.000000  0.642066                  -1641.277669   \n",
       "3       0.0    0.000000  0.697025                  -1481.921642   \n",
       "4       0.0    0.000000  0.630387                  -1738.379824   \n",
       "5       0.0    0.015625  0.504884                  -1918.610453   \n",
       "\n",
       "   test_neg_mean_squared_error  test_neg_root_mean_squared_error  \n",
       "1                -7.676998e+06                      -2770.739558  \n",
       "2                -7.431554e+06                      -2726.087671  \n",
       "3                -5.571604e+06                      -2360.424467  \n",
       "4                -8.409138e+06                      -2899.851322  \n",
       "5                -1.056733e+07                      -3250.742926  "
      ]
     },
     "execution_count": 965,
     "metadata": {},
     "output_type": "execute_result"
    }
   ],
   "source": [
    "pd.DataFrame(scores, index = range(1, 6))"
   ]
  },
  {
   "cell_type": "code",
   "execution_count": 966,
   "id": "b150b0c0",
   "metadata": {},
   "outputs": [
    {
     "data": {
      "text/plain": [
       "test_r2                             6.110648e-01\n",
       "test_neg_mean_absolute_error       -1.685597e+03\n",
       "test_neg_mean_squared_error        -7.931325e+06\n",
       "test_neg_root_mean_squared_error   -2.801569e+03\n",
       "dtype: float64"
      ]
     },
     "execution_count": 966,
     "metadata": {},
     "output_type": "execute_result"
    }
   ],
   "source": [
    "scores = pd.DataFrame(scores, index = range(1, 6))\n",
    "scores.iloc[:,2:].mean()"
   ]
  },
  {
   "cell_type": "code",
   "execution_count": 967,
   "id": "63bcd300",
   "metadata": {},
   "outputs": [
    {
     "data": {
      "text/html": [
       "<div>\n",
       "<style scoped>\n",
       "    .dataframe tbody tr th:only-of-type {\n",
       "        vertical-align: middle;\n",
       "    }\n",
       "\n",
       "    .dataframe tbody tr th {\n",
       "        vertical-align: top;\n",
       "    }\n",
       "\n",
       "    .dataframe thead th {\n",
       "        text-align: right;\n",
       "    }\n",
       "</style>\n",
       "<table border=\"1\" class=\"dataframe\">\n",
       "  <thead>\n",
       "    <tr style=\"text-align: right;\">\n",
       "      <th></th>\n",
       "      <th>lasso_train</th>\n",
       "      <th>lasso_test</th>\n",
       "    </tr>\n",
       "  </thead>\n",
       "  <tbody>\n",
       "    <tr>\n",
       "      <th>R2</th>\n",
       "      <td>6.147660e-01</td>\n",
       "      <td>6.583453e-01</td>\n",
       "    </tr>\n",
       "    <tr>\n",
       "      <th>mae</th>\n",
       "      <td>1.674885e+03</td>\n",
       "      <td>1.570356e+03</td>\n",
       "    </tr>\n",
       "    <tr>\n",
       "      <th>mse</th>\n",
       "      <td>7.849301e+06</td>\n",
       "      <td>6.647057e+06</td>\n",
       "    </tr>\n",
       "    <tr>\n",
       "      <th>rmse</th>\n",
       "      <td>2.801660e+03</td>\n",
       "      <td>2.578189e+03</td>\n",
       "    </tr>\n",
       "  </tbody>\n",
       "</table>\n",
       "</div>"
      ],
      "text/plain": [
       "       lasso_train    lasso_test\n",
       "R2    6.147660e-01  6.583453e-01\n",
       "mae   1.674885e+03  1.570356e+03\n",
       "mse   7.849301e+06  6.647057e+06\n",
       "rmse  2.801660e+03  2.578189e+03"
      ]
     },
     "execution_count": 967,
     "metadata": {},
     "output_type": "execute_result"
    }
   ],
   "source": [
    "train_val(y_train, y_train_pred, y_test, y_pred, \"lasso\")"
   ]
  },
  {
   "cell_type": "markdown",
   "id": "66c73980",
   "metadata": {},
   "source": [
    "# Choosing best alpha value with Cross-Validation"
   ]
  },
  {
   "cell_type": "code",
   "execution_count": 968,
   "id": "e59a35c9",
   "metadata": {},
   "outputs": [],
   "source": [
    "lasso_cv_model = LassoCV(alphas = alpha_space, cv = 5, max_iter=100000, random_state=42)"
   ]
  },
  {
   "cell_type": "code",
   "execution_count": 969,
   "id": "a50fb29e",
   "metadata": {},
   "outputs": [
    {
     "data": {
      "text/plain": [
       "LassoCV(alphas=array([0.01, 0.02, 0.03, 0.04, 0.05, 0.06, 0.07, 0.08, 0.09, 0.1 , 0.11,\n",
       "       0.12, 0.13, 0.14, 0.15, 0.16, 0.17, 0.18, 0.19, 0.2 , 0.21, 0.22,\n",
       "       0.23, 0.24, 0.25, 0.26, 0.27, 0.28, 0.29, 0.3 , 0.31, 0.32, 0.33,\n",
       "       0.34, 0.35, 0.36, 0.37, 0.38, 0.39, 0.4 , 0.41, 0.42, 0.43, 0.44,\n",
       "       0.45, 0.46, 0.47, 0.48, 0.49, 0.5 , 0.51, 0.52, 0.53, 0.54, 0.55,\n",
       "       0.56, 0.57, 0.58, 0.59, 0.6 , 0.61, 0.62, 0.63, 0.64, 0.65, 0.66,\n",
       "       0.67, 0.68, 0.69, 0.7 , 0.71, 0.72, 0.73, 0.74, 0.75, 0.76, 0.77,\n",
       "       0.78, 0.79, 0.8 , 0.81, 0.82, 0.83, 0.84, 0.85, 0.86, 0.87, 0.88,\n",
       "       0.89, 0.9 , 0.91, 0.92, 0.93, 0.94, 0.95, 0.96, 0.97, 0.98, 0.99,\n",
       "       1.  ]),\n",
       "        cv=5, max_iter=100000, random_state=42)"
      ]
     },
     "execution_count": 969,
     "metadata": {},
     "output_type": "execute_result"
    }
   ],
   "source": [
    "lasso_cv_model.fit(X_train_scaled, y_train)"
   ]
  },
  {
   "cell_type": "code",
   "execution_count": 970,
   "id": "96a918a1",
   "metadata": {},
   "outputs": [
    {
     "data": {
      "text/plain": [
       "1.0"
      ]
     },
     "execution_count": 970,
     "metadata": {},
     "output_type": "execute_result"
    }
   ],
   "source": [
    "lasso_cv_model.alpha_"
   ]
  },
  {
   "cell_type": "code",
   "execution_count": 971,
   "id": "02333a90",
   "metadata": {},
   "outputs": [
    {
     "data": {
      "text/plain": [
       "array([1.  , 0.99, 0.98, 0.97, 0.96, 0.95, 0.94, 0.93, 0.92, 0.91, 0.9 ,\n",
       "       0.89, 0.88, 0.87, 0.86, 0.85, 0.84, 0.83, 0.82, 0.81, 0.8 , 0.79,\n",
       "       0.78, 0.77, 0.76, 0.75, 0.74, 0.73, 0.72, 0.71, 0.7 , 0.69, 0.68,\n",
       "       0.67, 0.66, 0.65, 0.64, 0.63, 0.62, 0.61, 0.6 , 0.59, 0.58, 0.57,\n",
       "       0.56, 0.55, 0.54, 0.53, 0.52, 0.51, 0.5 , 0.49, 0.48, 0.47, 0.46,\n",
       "       0.45, 0.44, 0.43, 0.42, 0.41, 0.4 , 0.39, 0.38, 0.37, 0.36, 0.35,\n",
       "       0.34, 0.33, 0.32, 0.31, 0.3 , 0.29, 0.28, 0.27, 0.26, 0.25, 0.24,\n",
       "       0.23, 0.22, 0.21, 0.2 , 0.19, 0.18, 0.17, 0.16, 0.15, 0.14, 0.13,\n",
       "       0.12, 0.11, 0.1 , 0.09, 0.08, 0.07, 0.06, 0.05, 0.04, 0.03, 0.02,\n",
       "       0.01])"
      ]
     },
     "execution_count": 971,
     "metadata": {},
     "output_type": "execute_result"
    }
   ],
   "source": [
    "alpha_space[::-1]"
   ]
  },
  {
   "cell_type": "code",
   "execution_count": 972,
   "id": "c0facc70",
   "metadata": {},
   "outputs": [
    {
     "data": {
      "text/plain": [
       "7931797.72263771"
      ]
     },
     "execution_count": 972,
     "metadata": {},
     "output_type": "execute_result"
    }
   ],
   "source": [
    "lasso_cv_model.mse_path_[-1].mean()"
   ]
  },
  {
   "cell_type": "code",
   "execution_count": 973,
   "id": "19bd1861",
   "metadata": {},
   "outputs": [],
   "source": [
    "y_pred = lasso_cv_model.predict(X_test_scaled)   #Lasso(alpha =0.01)\n",
    "y_train_pred = lasso_cv_model.predict(X_train_scaled)"
   ]
  },
  {
   "cell_type": "code",
   "execution_count": 974,
   "id": "8b7d5b66",
   "metadata": {},
   "outputs": [
    {
     "data": {
      "text/html": [
       "<div>\n",
       "<style scoped>\n",
       "    .dataframe tbody tr th:only-of-type {\n",
       "        vertical-align: middle;\n",
       "    }\n",
       "\n",
       "    .dataframe tbody tr th {\n",
       "        vertical-align: top;\n",
       "    }\n",
       "\n",
       "    .dataframe thead th {\n",
       "        text-align: right;\n",
       "    }\n",
       "</style>\n",
       "<table border=\"1\" class=\"dataframe\">\n",
       "  <thead>\n",
       "    <tr style=\"text-align: right;\">\n",
       "      <th></th>\n",
       "      <th>lasso_cv_train</th>\n",
       "      <th>lasso_cv_test</th>\n",
       "    </tr>\n",
       "  </thead>\n",
       "  <tbody>\n",
       "    <tr>\n",
       "      <th>R2</th>\n",
       "      <td>6.147660e-01</td>\n",
       "      <td>6.583453e-01</td>\n",
       "    </tr>\n",
       "    <tr>\n",
       "      <th>mae</th>\n",
       "      <td>1.674885e+03</td>\n",
       "      <td>1.570356e+03</td>\n",
       "    </tr>\n",
       "    <tr>\n",
       "      <th>mse</th>\n",
       "      <td>7.849301e+06</td>\n",
       "      <td>6.647057e+06</td>\n",
       "    </tr>\n",
       "    <tr>\n",
       "      <th>rmse</th>\n",
       "      <td>2.801660e+03</td>\n",
       "      <td>2.578189e+03</td>\n",
       "    </tr>\n",
       "  </tbody>\n",
       "</table>\n",
       "</div>"
      ],
      "text/plain": [
       "      lasso_cv_train  lasso_cv_test\n",
       "R2      6.147660e-01   6.583453e-01\n",
       "mae     1.674885e+03   1.570356e+03\n",
       "mse     7.849301e+06   6.647057e+06\n",
       "rmse    2.801660e+03   2.578189e+03"
      ]
     },
     "execution_count": 974,
     "metadata": {},
     "output_type": "execute_result"
    }
   ],
   "source": [
    "lcs = train_val(y_train, y_train_pred, y_test, y_pred, \"lasso_cv\")#0.01 alpha değeri ile dahada scorların iyileştiğini görebiliyoruz\n",
    "lcs"
   ]
  },
  {
   "cell_type": "code",
   "execution_count": 975,
   "id": "6f265792",
   "metadata": {},
   "outputs": [
    {
     "data": {
      "text/html": [
       "<div>\n",
       "<style scoped>\n",
       "    .dataframe tbody tr th:only-of-type {\n",
       "        vertical-align: middle;\n",
       "    }\n",
       "\n",
       "    .dataframe tbody tr th {\n",
       "        vertical-align: top;\n",
       "    }\n",
       "\n",
       "    .dataframe thead th {\n",
       "        text-align: right;\n",
       "    }\n",
       "</style>\n",
       "<table border=\"1\" class=\"dataframe\">\n",
       "  <thead>\n",
       "    <tr style=\"text-align: right;\">\n",
       "      <th></th>\n",
       "      <th>linear_train</th>\n",
       "      <th>linear_test</th>\n",
       "      <th>ridge_train</th>\n",
       "      <th>ridge_test</th>\n",
       "      <th>ridge_cv_train</th>\n",
       "      <th>ridge_cv_test</th>\n",
       "      <th>lasso_train</th>\n",
       "      <th>lasso_test</th>\n",
       "      <th>lasso_cv_train</th>\n",
       "      <th>lasso_cv_test</th>\n",
       "    </tr>\n",
       "  </thead>\n",
       "  <tbody>\n",
       "    <tr>\n",
       "      <th>R2</th>\n",
       "      <td>6.147620e-01</td>\n",
       "      <td>6.580859e-01</td>\n",
       "      <td>6.147661e-01</td>\n",
       "      <td>6.582840e-01</td>\n",
       "      <td>6.147664e-01</td>\n",
       "      <td>6.582787e-01</td>\n",
       "      <td>6.147660e-01</td>\n",
       "      <td>6.583453e-01</td>\n",
       "      <td>6.147660e-01</td>\n",
       "      <td>6.583453e-01</td>\n",
       "    </tr>\n",
       "    <tr>\n",
       "      <th>mae</th>\n",
       "      <td>1.675595e+03</td>\n",
       "      <td>1.571269e+03</td>\n",
       "      <td>1.675238e+03</td>\n",
       "      <td>1.570802e+03</td>\n",
       "      <td>1.675040e+03</td>\n",
       "      <td>1.570550e+03</td>\n",
       "      <td>1.674885e+03</td>\n",
       "      <td>1.570356e+03</td>\n",
       "      <td>1.674885e+03</td>\n",
       "      <td>1.570356e+03</td>\n",
       "    </tr>\n",
       "    <tr>\n",
       "      <th>mse</th>\n",
       "      <td>7.849381e+06</td>\n",
       "      <td>6.652103e+06</td>\n",
       "      <td>7.849298e+06</td>\n",
       "      <td>6.648250e+06</td>\n",
       "      <td>7.849293e+06</td>\n",
       "      <td>6.648353e+06</td>\n",
       "      <td>7.849301e+06</td>\n",
       "      <td>6.647057e+06</td>\n",
       "      <td>7.849301e+06</td>\n",
       "      <td>6.647057e+06</td>\n",
       "    </tr>\n",
       "    <tr>\n",
       "      <th>rmse</th>\n",
       "      <td>2.801675e+03</td>\n",
       "      <td>2.579167e+03</td>\n",
       "      <td>2.801660e+03</td>\n",
       "      <td>2.578420e+03</td>\n",
       "      <td>2.801659e+03</td>\n",
       "      <td>2.578440e+03</td>\n",
       "      <td>2.801660e+03</td>\n",
       "      <td>2.578189e+03</td>\n",
       "      <td>2.801660e+03</td>\n",
       "      <td>2.578189e+03</td>\n",
       "    </tr>\n",
       "  </tbody>\n",
       "</table>\n",
       "</div>"
      ],
      "text/plain": [
       "      linear_train   linear_test   ridge_train    ridge_test  ridge_cv_train  \\\n",
       "R2    6.147620e-01  6.580859e-01  6.147661e-01  6.582840e-01    6.147664e-01   \n",
       "mae   1.675595e+03  1.571269e+03  1.675238e+03  1.570802e+03    1.675040e+03   \n",
       "mse   7.849381e+06  6.652103e+06  7.849298e+06  6.648250e+06    7.849293e+06   \n",
       "rmse  2.801675e+03  2.579167e+03  2.801660e+03  2.578420e+03    2.801659e+03   \n",
       "\n",
       "      ridge_cv_test   lasso_train    lasso_test  lasso_cv_train  lasso_cv_test  \n",
       "R2     6.582787e-01  6.147660e-01  6.583453e-01    6.147660e-01   6.583453e-01  \n",
       "mae    1.570550e+03  1.674885e+03  1.570356e+03    1.674885e+03   1.570356e+03  \n",
       "mse    6.648353e+06  7.849301e+06  6.647057e+06    7.849301e+06   6.647057e+06  \n",
       "rmse   2.578440e+03  2.801660e+03  2.578189e+03    2.801660e+03   2.578189e+03  "
      ]
     },
     "execution_count": 975,
     "metadata": {},
     "output_type": "execute_result"
    }
   ],
   "source": [
    "pd.concat([ls,rs, rcs, lss, lcs], axis = 1) #10 feature ile %98 lik bir modelmi istiyorsun diye sormalıyız"
   ]
  },
  {
   "cell_type": "markdown",
   "id": "dfa79d23",
   "metadata": {},
   "source": [
    "# Elastic net"
   ]
  },
  {
   "cell_type": "code",
   "execution_count": 976,
   "id": "d2e7481c",
   "metadata": {},
   "outputs": [],
   "source": [
    "from sklearn.linear_model import ElasticNet, ElasticNetCV"
   ]
  },
  {
   "cell_type": "code",
   "execution_count": 977,
   "id": "35bf0395",
   "metadata": {},
   "outputs": [
    {
     "data": {
      "text/plain": [
       "ElasticNet(alpha=1, random_state=42)"
      ]
     },
     "execution_count": 977,
     "metadata": {},
     "output_type": "execute_result"
    }
   ],
   "source": [
    "elastic_model = ElasticNet(alpha=1, l1_ratio=0.5, random_state=42)\n",
    "elastic_model.fit(X_train_scaled, y_train)    "
   ]
  },
  {
   "cell_type": "code",
   "execution_count": 978,
   "id": "132b5192",
   "metadata": {},
   "outputs": [],
   "source": [
    "y_pred = elastic_model.predict(X_test_scaled)\n",
    "y_train_pred = elastic_model.predict(X_train_scaled)"
   ]
  },
  {
   "cell_type": "code",
   "execution_count": 979,
   "id": "9e525169",
   "metadata": {},
   "outputs": [
    {
     "data": {
      "text/html": [
       "<div>\n",
       "<style scoped>\n",
       "    .dataframe tbody tr th:only-of-type {\n",
       "        vertical-align: middle;\n",
       "    }\n",
       "\n",
       "    .dataframe tbody tr th {\n",
       "        vertical-align: top;\n",
       "    }\n",
       "\n",
       "    .dataframe thead th {\n",
       "        text-align: right;\n",
       "    }\n",
       "</style>\n",
       "<table border=\"1\" class=\"dataframe\">\n",
       "  <thead>\n",
       "    <tr style=\"text-align: right;\">\n",
       "      <th></th>\n",
       "      <th>elastic_train</th>\n",
       "      <th>elastic_test</th>\n",
       "    </tr>\n",
       "  </thead>\n",
       "  <tbody>\n",
       "    <tr>\n",
       "      <th>R2</th>\n",
       "      <td>5.447496e-01</td>\n",
       "      <td>5.875593e-01</td>\n",
       "    </tr>\n",
       "    <tr>\n",
       "      <th>mae</th>\n",
       "      <td>2.169255e+03</td>\n",
       "      <td>2.081360e+03</td>\n",
       "    </tr>\n",
       "    <tr>\n",
       "      <th>mse</th>\n",
       "      <td>9.275913e+06</td>\n",
       "      <td>8.024232e+06</td>\n",
       "    </tr>\n",
       "    <tr>\n",
       "      <th>rmse</th>\n",
       "      <td>3.045638e+03</td>\n",
       "      <td>2.832708e+03</td>\n",
       "    </tr>\n",
       "  </tbody>\n",
       "</table>\n",
       "</div>"
      ],
      "text/plain": [
       "      elastic_train  elastic_test\n",
       "R2     5.447496e-01  5.875593e-01\n",
       "mae    2.169255e+03  2.081360e+03\n",
       "mse    9.275913e+06  8.024232e+06\n",
       "rmse   3.045638e+03  2.832708e+03"
      ]
     },
     "execution_count": 979,
     "metadata": {},
     "output_type": "execute_result"
    }
   ],
   "source": [
    "es = train_val(y_train, y_train_pred, y_test, y_pred, \"elastic\")\n",
    "es"
   ]
  },
  {
   "cell_type": "markdown",
   "id": "13b36f8f",
   "metadata": {},
   "source": [
    "# Grid Search"
   ]
  },
  {
   "cell_type": "code",
   "execution_count": 980,
   "id": "47805eea",
   "metadata": {},
   "outputs": [],
   "source": [
    "from sklearn.model_selection import GridSearchCV #"
   ]
  },
  {
   "cell_type": "code",
   "execution_count": 981,
   "id": "5f733f4c",
   "metadata": {},
   "outputs": [],
   "source": [
    "elastic_model = ElasticNet(max_iter=10000, random_state=42)"
   ]
  },
  {
   "cell_type": "code",
   "execution_count": 982,
   "id": "58ead06e",
   "metadata": {},
   "outputs": [],
   "source": [
    "param_grid = {\"alpha\":[0.01, 0.012, 0.2, 0.5, 0.6, 0.7, 1],   #alpha değerinin bir sınırı yok ne kadar artarsa çalışma maaliyeti\n",
    "            \"l1_ratio\":[0.1, 0.5, 0.7, 0.9, 0.95, 0.99, 1]} "
   ]
  },
  {
   "cell_type": "code",
   "execution_count": 983,
   "id": "b8983f4d",
   "metadata": {},
   "outputs": [],
   "source": [
    "grid_model = GridSearchCV(estimator = elastic_model, param_grid = param_grid, scoring = 'neg_root_mean_squared_error',\n",
    "                         cv =5, verbose =2)"
   ]
  },
  {
   "cell_type": "code",
   "execution_count": 984,
   "id": "f675c3aa",
   "metadata": {},
   "outputs": [
    {
     "name": "stdout",
     "output_type": "stream",
     "text": [
      "Fitting 5 folds for each of 49 candidates, totalling 245 fits\n",
      "[CV] END ...........................alpha=0.01, l1_ratio=0.1; total time=   0.0s\n",
      "[CV] END ...........................alpha=0.01, l1_ratio=0.1; total time=   0.0s\n",
      "[CV] END ...........................alpha=0.01, l1_ratio=0.1; total time=   0.0s\n",
      "[CV] END ...........................alpha=0.01, l1_ratio=0.1; total time=   0.0s\n",
      "[CV] END ...........................alpha=0.01, l1_ratio=0.1; total time=   0.0s\n",
      "[CV] END ...........................alpha=0.01, l1_ratio=0.5; total time=   0.0s\n",
      "[CV] END ...........................alpha=0.01, l1_ratio=0.5; total time=   0.0s\n",
      "[CV] END ...........................alpha=0.01, l1_ratio=0.5; total time=   0.0s\n",
      "[CV] END ...........................alpha=0.01, l1_ratio=0.5; total time=   0.0s\n",
      "[CV] END ...........................alpha=0.01, l1_ratio=0.5; total time=   0.0s\n",
      "[CV] END ...........................alpha=0.01, l1_ratio=0.7; total time=   0.0s\n",
      "[CV] END ...........................alpha=0.01, l1_ratio=0.7; total time=   0.0s\n",
      "[CV] END ...........................alpha=0.01, l1_ratio=0.7; total time=   0.0s\n",
      "[CV] END ...........................alpha=0.01, l1_ratio=0.7; total time=   0.0s\n",
      "[CV] END ...........................alpha=0.01, l1_ratio=0.7; total time=   0.0s\n",
      "[CV] END ...........................alpha=0.01, l1_ratio=0.9; total time=   0.0s\n",
      "[CV] END ...........................alpha=0.01, l1_ratio=0.9; total time=   0.0s\n",
      "[CV] END ...........................alpha=0.01, l1_ratio=0.9; total time=   0.0s\n",
      "[CV] END ...........................alpha=0.01, l1_ratio=0.9; total time=   0.0s\n",
      "[CV] END ...........................alpha=0.01, l1_ratio=0.9; total time=   0.1s\n",
      "[CV] END ..........................alpha=0.01, l1_ratio=0.95; total time=   0.2s\n",
      "[CV] END ..........................alpha=0.01, l1_ratio=0.95; total time=   0.1s\n",
      "[CV] END ..........................alpha=0.01, l1_ratio=0.95; total time=   0.1s\n",
      "[CV] END ..........................alpha=0.01, l1_ratio=0.95; total time=   0.2s\n",
      "[CV] END ..........................alpha=0.01, l1_ratio=0.95; total time=   0.2s\n"
     ]
    },
    {
     "name": "stderr",
     "output_type": "stream",
     "text": [
      "C:\\Users\\yavuz\\anaconda3\\envs\\notebook\\lib\\site-packages\\sklearn\\linear_model\\_coordinate_descent.py:647: ConvergenceWarning: Objective did not converge. You might want to increase the number of iterations, check the scale of the features or consider increasing regularisation. Duality gap: 1.826e+09, tolerance: 2.463e+06\n",
      "  model = cd_fast.enet_coordinate_descent(\n"
     ]
    },
    {
     "name": "stdout",
     "output_type": "stream",
     "text": [
      "[CV] END ..........................alpha=0.01, l1_ratio=0.99; total time=   0.4s\n"
     ]
    },
    {
     "name": "stderr",
     "output_type": "stream",
     "text": [
      "C:\\Users\\yavuz\\anaconda3\\envs\\notebook\\lib\\site-packages\\sklearn\\linear_model\\_coordinate_descent.py:647: ConvergenceWarning: Objective did not converge. You might want to increase the number of iterations, check the scale of the features or consider increasing regularisation. Duality gap: 9.662e+08, tolerance: 2.392e+06\n",
      "  model = cd_fast.enet_coordinate_descent(\n"
     ]
    },
    {
     "name": "stdout",
     "output_type": "stream",
     "text": [
      "[CV] END ..........................alpha=0.01, l1_ratio=0.99; total time=   0.3s\n"
     ]
    },
    {
     "name": "stderr",
     "output_type": "stream",
     "text": [
      "C:\\Users\\yavuz\\anaconda3\\envs\\notebook\\lib\\site-packages\\sklearn\\linear_model\\_coordinate_descent.py:647: ConvergenceWarning: Objective did not converge. You might want to increase the number of iterations, check the scale of the features or consider increasing regularisation. Duality gap: 1.781e+09, tolerance: 2.463e+06\n",
      "  model = cd_fast.enet_coordinate_descent(\n"
     ]
    },
    {
     "name": "stdout",
     "output_type": "stream",
     "text": [
      "[CV] END ..........................alpha=0.01, l1_ratio=0.99; total time=   0.4s\n"
     ]
    },
    {
     "name": "stderr",
     "output_type": "stream",
     "text": [
      "C:\\Users\\yavuz\\anaconda3\\envs\\notebook\\lib\\site-packages\\sklearn\\linear_model\\_coordinate_descent.py:647: ConvergenceWarning: Objective did not converge. You might want to increase the number of iterations, check the scale of the features or consider increasing regularisation. Duality gap: 2.182e+08, tolerance: 2.330e+06\n",
      "  model = cd_fast.enet_coordinate_descent(\n"
     ]
    },
    {
     "name": "stdout",
     "output_type": "stream",
     "text": [
      "[CV] END ..........................alpha=0.01, l1_ratio=0.99; total time=   0.3s\n"
     ]
    },
    {
     "name": "stderr",
     "output_type": "stream",
     "text": [
      "C:\\Users\\yavuz\\anaconda3\\envs\\notebook\\lib\\site-packages\\sklearn\\linear_model\\_coordinate_descent.py:647: ConvergenceWarning: Objective did not converge. You might want to increase the number of iterations, check the scale of the features or consider increasing regularisation. Duality gap: 1.418e+09, tolerance: 2.372e+06\n",
      "  model = cd_fast.enet_coordinate_descent(\n"
     ]
    },
    {
     "name": "stdout",
     "output_type": "stream",
     "text": [
      "[CV] END ..........................alpha=0.01, l1_ratio=0.99; total time=   0.3s\n",
      "[CV] END .............................alpha=0.01, l1_ratio=1; total time=   0.0s\n",
      "[CV] END .............................alpha=0.01, l1_ratio=1; total time=   0.0s\n",
      "[CV] END .............................alpha=0.01, l1_ratio=1; total time=   0.0s\n",
      "[CV] END .............................alpha=0.01, l1_ratio=1; total time=   0.0s\n",
      "[CV] END .............................alpha=0.01, l1_ratio=1; total time=   0.0s\n",
      "[CV] END ..........................alpha=0.012, l1_ratio=0.1; total time=   0.0s\n",
      "[CV] END ..........................alpha=0.012, l1_ratio=0.1; total time=   0.0s\n",
      "[CV] END ..........................alpha=0.012, l1_ratio=0.1; total time=   0.0s\n",
      "[CV] END ..........................alpha=0.012, l1_ratio=0.1; total time=   0.0s\n",
      "[CV] END ..........................alpha=0.012, l1_ratio=0.1; total time=   0.0s\n",
      "[CV] END ..........................alpha=0.012, l1_ratio=0.5; total time=   0.0s\n",
      "[CV] END ..........................alpha=0.012, l1_ratio=0.5; total time=   0.0s\n",
      "[CV] END ..........................alpha=0.012, l1_ratio=0.5; total time=   0.0s\n",
      "[CV] END ..........................alpha=0.012, l1_ratio=0.5; total time=   0.0s\n",
      "[CV] END ..........................alpha=0.012, l1_ratio=0.5; total time=   0.0s\n",
      "[CV] END ..........................alpha=0.012, l1_ratio=0.7; total time=   0.0s\n",
      "[CV] END ..........................alpha=0.012, l1_ratio=0.7; total time=   0.0s\n",
      "[CV] END ..........................alpha=0.012, l1_ratio=0.7; total time=   0.0s\n",
      "[CV] END ..........................alpha=0.012, l1_ratio=0.7; total time=   0.0s\n",
      "[CV] END ..........................alpha=0.012, l1_ratio=0.7; total time=   0.0s\n",
      "[CV] END ..........................alpha=0.012, l1_ratio=0.9; total time=   0.0s\n",
      "[CV] END ..........................alpha=0.012, l1_ratio=0.9; total time=   0.0s\n",
      "[CV] END ..........................alpha=0.012, l1_ratio=0.9; total time=   0.0s\n",
      "[CV] END ..........................alpha=0.012, l1_ratio=0.9; total time=   0.0s\n",
      "[CV] END ..........................alpha=0.012, l1_ratio=0.9; total time=   0.0s\n",
      "[CV] END .........................alpha=0.012, l1_ratio=0.95; total time=   0.1s\n",
      "[CV] END .........................alpha=0.012, l1_ratio=0.95; total time=   0.1s\n",
      "[CV] END .........................alpha=0.012, l1_ratio=0.95; total time=   0.1s\n",
      "[CV] END .........................alpha=0.012, l1_ratio=0.95; total time=   0.1s\n",
      "[CV] END .........................alpha=0.012, l1_ratio=0.95; total time=   0.1s\n"
     ]
    },
    {
     "name": "stderr",
     "output_type": "stream",
     "text": [
      "C:\\Users\\yavuz\\anaconda3\\envs\\notebook\\lib\\site-packages\\sklearn\\linear_model\\_coordinate_descent.py:647: ConvergenceWarning: Objective did not converge. You might want to increase the number of iterations, check the scale of the features or consider increasing regularisation. Duality gap: 5.730e+08, tolerance: 2.463e+06\n",
      "  model = cd_fast.enet_coordinate_descent(\n"
     ]
    },
    {
     "name": "stdout",
     "output_type": "stream",
     "text": [
      "[CV] END .........................alpha=0.012, l1_ratio=0.99; total time=   0.3s\n"
     ]
    },
    {
     "name": "stderr",
     "output_type": "stream",
     "text": [
      "C:\\Users\\yavuz\\anaconda3\\envs\\notebook\\lib\\site-packages\\sklearn\\linear_model\\_coordinate_descent.py:647: ConvergenceWarning: Objective did not converge. You might want to increase the number of iterations, check the scale of the features or consider increasing regularisation. Duality gap: 1.458e+08, tolerance: 2.392e+06\n",
      "  model = cd_fast.enet_coordinate_descent(\n"
     ]
    },
    {
     "name": "stdout",
     "output_type": "stream",
     "text": [
      "[CV] END .........................alpha=0.012, l1_ratio=0.99; total time=   0.4s\n"
     ]
    },
    {
     "name": "stderr",
     "output_type": "stream",
     "text": [
      "C:\\Users\\yavuz\\anaconda3\\envs\\notebook\\lib\\site-packages\\sklearn\\linear_model\\_coordinate_descent.py:647: ConvergenceWarning: Objective did not converge. You might want to increase the number of iterations, check the scale of the features or consider increasing regularisation. Duality gap: 3.971e+08, tolerance: 2.463e+06\n",
      "  model = cd_fast.enet_coordinate_descent(\n"
     ]
    },
    {
     "name": "stdout",
     "output_type": "stream",
     "text": [
      "[CV] END .........................alpha=0.012, l1_ratio=0.99; total time=   0.3s\n"
     ]
    },
    {
     "name": "stderr",
     "output_type": "stream",
     "text": [
      "C:\\Users\\yavuz\\anaconda3\\envs\\notebook\\lib\\site-packages\\sklearn\\linear_model\\_coordinate_descent.py:647: ConvergenceWarning: Objective did not converge. You might want to increase the number of iterations, check the scale of the features or consider increasing regularisation. Duality gap: 1.065e+08, tolerance: 2.330e+06\n",
      "  model = cd_fast.enet_coordinate_descent(\n"
     ]
    },
    {
     "name": "stdout",
     "output_type": "stream",
     "text": [
      "[CV] END .........................alpha=0.012, l1_ratio=0.99; total time=   0.3s\n"
     ]
    },
    {
     "name": "stderr",
     "output_type": "stream",
     "text": [
      "C:\\Users\\yavuz\\anaconda3\\envs\\notebook\\lib\\site-packages\\sklearn\\linear_model\\_coordinate_descent.py:647: ConvergenceWarning: Objective did not converge. You might want to increase the number of iterations, check the scale of the features or consider increasing regularisation. Duality gap: 2.212e+08, tolerance: 2.372e+06\n",
      "  model = cd_fast.enet_coordinate_descent(\n"
     ]
    },
    {
     "name": "stdout",
     "output_type": "stream",
     "text": [
      "[CV] END .........................alpha=0.012, l1_ratio=0.99; total time=   0.4s\n",
      "[CV] END ............................alpha=0.012, l1_ratio=1; total time=   0.0s\n",
      "[CV] END ............................alpha=0.012, l1_ratio=1; total time=   0.0s\n",
      "[CV] END ............................alpha=0.012, l1_ratio=1; total time=   0.0s\n",
      "[CV] END ............................alpha=0.012, l1_ratio=1; total time=   0.0s\n",
      "[CV] END ............................alpha=0.012, l1_ratio=1; total time=   0.0s\n",
      "[CV] END ............................alpha=0.2, l1_ratio=0.1; total time=   0.0s\n",
      "[CV] END ............................alpha=0.2, l1_ratio=0.1; total time=   0.0s\n",
      "[CV] END ............................alpha=0.2, l1_ratio=0.1; total time=   0.0s\n",
      "[CV] END ............................alpha=0.2, l1_ratio=0.1; total time=   0.0s\n",
      "[CV] END ............................alpha=0.2, l1_ratio=0.1; total time=   0.0s\n",
      "[CV] END ............................alpha=0.2, l1_ratio=0.5; total time=   0.0s\n",
      "[CV] END ............................alpha=0.2, l1_ratio=0.5; total time=   0.0s\n",
      "[CV] END ............................alpha=0.2, l1_ratio=0.5; total time=   0.0s\n",
      "[CV] END ............................alpha=0.2, l1_ratio=0.5; total time=   0.0s\n",
      "[CV] END ............................alpha=0.2, l1_ratio=0.5; total time=   0.0s\n",
      "[CV] END ............................alpha=0.2, l1_ratio=0.7; total time=   0.0s\n",
      "[CV] END ............................alpha=0.2, l1_ratio=0.7; total time=   0.0s\n",
      "[CV] END ............................alpha=0.2, l1_ratio=0.7; total time=   0.0s\n",
      "[CV] END ............................alpha=0.2, l1_ratio=0.7; total time=   0.0s\n",
      "[CV] END ............................alpha=0.2, l1_ratio=0.7; total time=   0.0s\n",
      "[CV] END ............................alpha=0.2, l1_ratio=0.9; total time=   0.0s\n",
      "[CV] END ............................alpha=0.2, l1_ratio=0.9; total time=   0.0s\n",
      "[CV] END ............................alpha=0.2, l1_ratio=0.9; total time=   0.0s\n",
      "[CV] END ............................alpha=0.2, l1_ratio=0.9; total time=   0.0s\n",
      "[CV] END ............................alpha=0.2, l1_ratio=0.9; total time=   0.0s\n",
      "[CV] END ...........................alpha=0.2, l1_ratio=0.95; total time=   0.0s\n",
      "[CV] END ...........................alpha=0.2, l1_ratio=0.95; total time=   0.0s\n",
      "[CV] END ...........................alpha=0.2, l1_ratio=0.95; total time=   0.0s\n",
      "[CV] END ...........................alpha=0.2, l1_ratio=0.95; total time=   0.0s\n",
      "[CV] END ...........................alpha=0.2, l1_ratio=0.95; total time=   0.0s\n",
      "[CV] END ...........................alpha=0.2, l1_ratio=0.99; total time=   0.0s\n",
      "[CV] END ...........................alpha=0.2, l1_ratio=0.99; total time=   0.0s\n",
      "[CV] END ...........................alpha=0.2, l1_ratio=0.99; total time=   0.0s\n",
      "[CV] END ...........................alpha=0.2, l1_ratio=0.99; total time=   0.0s\n",
      "[CV] END ...........................alpha=0.2, l1_ratio=0.99; total time=   0.0s\n",
      "[CV] END ..............................alpha=0.2, l1_ratio=1; total time=   0.0s\n",
      "[CV] END ..............................alpha=0.2, l1_ratio=1; total time=   0.0s\n",
      "[CV] END ..............................alpha=0.2, l1_ratio=1; total time=   0.0s\n",
      "[CV] END ..............................alpha=0.2, l1_ratio=1; total time=   0.0s\n",
      "[CV] END ..............................alpha=0.2, l1_ratio=1; total time=   0.0s\n",
      "[CV] END ............................alpha=0.5, l1_ratio=0.1; total time=   0.0s\n",
      "[CV] END ............................alpha=0.5, l1_ratio=0.1; total time=   0.0s\n",
      "[CV] END ............................alpha=0.5, l1_ratio=0.1; total time=   0.0s\n",
      "[CV] END ............................alpha=0.5, l1_ratio=0.1; total time=   0.0s\n",
      "[CV] END ............................alpha=0.5, l1_ratio=0.1; total time=   0.0s\n",
      "[CV] END ............................alpha=0.5, l1_ratio=0.5; total time=   0.0s\n",
      "[CV] END ............................alpha=0.5, l1_ratio=0.5; total time=   0.0s\n",
      "[CV] END ............................alpha=0.5, l1_ratio=0.5; total time=   0.0s\n",
      "[CV] END ............................alpha=0.5, l1_ratio=0.5; total time=   0.0s\n",
      "[CV] END ............................alpha=0.5, l1_ratio=0.5; total time=   0.0s\n",
      "[CV] END ............................alpha=0.5, l1_ratio=0.7; total time=   0.0s\n",
      "[CV] END ............................alpha=0.5, l1_ratio=0.7; total time=   0.0s\n",
      "[CV] END ............................alpha=0.5, l1_ratio=0.7; total time=   0.0s\n",
      "[CV] END ............................alpha=0.5, l1_ratio=0.7; total time=   0.0s\n",
      "[CV] END ............................alpha=0.5, l1_ratio=0.7; total time=   0.0s\n",
      "[CV] END ............................alpha=0.5, l1_ratio=0.9; total time=   0.0s\n",
      "[CV] END ............................alpha=0.5, l1_ratio=0.9; total time=   0.0s\n",
      "[CV] END ............................alpha=0.5, l1_ratio=0.9; total time=   0.0s\n",
      "[CV] END ............................alpha=0.5, l1_ratio=0.9; total time=   0.0s\n",
      "[CV] END ............................alpha=0.5, l1_ratio=0.9; total time=   0.0s\n",
      "[CV] END ...........................alpha=0.5, l1_ratio=0.95; total time=   0.0s\n",
      "[CV] END ...........................alpha=0.5, l1_ratio=0.95; total time=   0.0s\n",
      "[CV] END ...........................alpha=0.5, l1_ratio=0.95; total time=   0.0s\n",
      "[CV] END ...........................alpha=0.5, l1_ratio=0.95; total time=   0.0s\n",
      "[CV] END ...........................alpha=0.5, l1_ratio=0.95; total time=   0.0s\n",
      "[CV] END ...........................alpha=0.5, l1_ratio=0.99; total time=   0.0s\n",
      "[CV] END ...........................alpha=0.5, l1_ratio=0.99; total time=   0.0s\n",
      "[CV] END ...........................alpha=0.5, l1_ratio=0.99; total time=   0.0s\n",
      "[CV] END ...........................alpha=0.5, l1_ratio=0.99; total time=   0.0s\n",
      "[CV] END ...........................alpha=0.5, l1_ratio=0.99; total time=   0.0s\n",
      "[CV] END ..............................alpha=0.5, l1_ratio=1; total time=   0.0s\n",
      "[CV] END ..............................alpha=0.5, l1_ratio=1; total time=   0.0s\n",
      "[CV] END ..............................alpha=0.5, l1_ratio=1; total time=   0.0s\n",
      "[CV] END ..............................alpha=0.5, l1_ratio=1; total time=   0.0s\n",
      "[CV] END ..............................alpha=0.5, l1_ratio=1; total time=   0.0s\n",
      "[CV] END ............................alpha=0.6, l1_ratio=0.1; total time=   0.0s\n",
      "[CV] END ............................alpha=0.6, l1_ratio=0.1; total time=   0.0s\n",
      "[CV] END ............................alpha=0.6, l1_ratio=0.1; total time=   0.0s\n",
      "[CV] END ............................alpha=0.6, l1_ratio=0.1; total time=   0.0s\n",
      "[CV] END ............................alpha=0.6, l1_ratio=0.1; total time=   0.0s\n",
      "[CV] END ............................alpha=0.6, l1_ratio=0.5; total time=   0.0s\n",
      "[CV] END ............................alpha=0.6, l1_ratio=0.5; total time=   0.0s\n",
      "[CV] END ............................alpha=0.6, l1_ratio=0.5; total time=   0.0s\n",
      "[CV] END ............................alpha=0.6, l1_ratio=0.5; total time=   0.0s\n",
      "[CV] END ............................alpha=0.6, l1_ratio=0.5; total time=   0.0s\n",
      "[CV] END ............................alpha=0.6, l1_ratio=0.7; total time=   0.0s\n",
      "[CV] END ............................alpha=0.6, l1_ratio=0.7; total time=   0.0s\n",
      "[CV] END ............................alpha=0.6, l1_ratio=0.7; total time=   0.0s\n",
      "[CV] END ............................alpha=0.6, l1_ratio=0.7; total time=   0.0s\n",
      "[CV] END ............................alpha=0.6, l1_ratio=0.7; total time=   0.0s\n",
      "[CV] END ............................alpha=0.6, l1_ratio=0.9; total time=   0.0s\n",
      "[CV] END ............................alpha=0.6, l1_ratio=0.9; total time=   0.0s\n",
      "[CV] END ............................alpha=0.6, l1_ratio=0.9; total time=   0.0s\n",
      "[CV] END ............................alpha=0.6, l1_ratio=0.9; total time=   0.0s\n",
      "[CV] END ............................alpha=0.6, l1_ratio=0.9; total time=   0.0s\n",
      "[CV] END ...........................alpha=0.6, l1_ratio=0.95; total time=   0.0s\n",
      "[CV] END ...........................alpha=0.6, l1_ratio=0.95; total time=   0.0s\n",
      "[CV] END ...........................alpha=0.6, l1_ratio=0.95; total time=   0.0s\n",
      "[CV] END ...........................alpha=0.6, l1_ratio=0.95; total time=   0.0s\n",
      "[CV] END ...........................alpha=0.6, l1_ratio=0.95; total time=   0.0s\n",
      "[CV] END ...........................alpha=0.6, l1_ratio=0.99; total time=   0.0s\n",
      "[CV] END ...........................alpha=0.6, l1_ratio=0.99; total time=   0.0s\n",
      "[CV] END ...........................alpha=0.6, l1_ratio=0.99; total time=   0.0s\n",
      "[CV] END ...........................alpha=0.6, l1_ratio=0.99; total time=   0.0s\n",
      "[CV] END ...........................alpha=0.6, l1_ratio=0.99; total time=   0.0s\n",
      "[CV] END ..............................alpha=0.6, l1_ratio=1; total time=   0.0s\n",
      "[CV] END ..............................alpha=0.6, l1_ratio=1; total time=   0.0s\n",
      "[CV] END ..............................alpha=0.6, l1_ratio=1; total time=   0.0s\n",
      "[CV] END ..............................alpha=0.6, l1_ratio=1; total time=   0.0s\n",
      "[CV] END ..............................alpha=0.6, l1_ratio=1; total time=   0.0s\n",
      "[CV] END ............................alpha=0.7, l1_ratio=0.1; total time=   0.0s\n",
      "[CV] END ............................alpha=0.7, l1_ratio=0.1; total time=   0.0s\n",
      "[CV] END ............................alpha=0.7, l1_ratio=0.1; total time=   0.0s\n",
      "[CV] END ............................alpha=0.7, l1_ratio=0.1; total time=   0.0s\n",
      "[CV] END ............................alpha=0.7, l1_ratio=0.1; total time=   0.0s\n",
      "[CV] END ............................alpha=0.7, l1_ratio=0.5; total time=   0.0s\n",
      "[CV] END ............................alpha=0.7, l1_ratio=0.5; total time=   0.0s\n",
      "[CV] END ............................alpha=0.7, l1_ratio=0.5; total time=   0.0s\n",
      "[CV] END ............................alpha=0.7, l1_ratio=0.5; total time=   0.0s\n"
     ]
    },
    {
     "name": "stdout",
     "output_type": "stream",
     "text": [
      "[CV] END ............................alpha=0.7, l1_ratio=0.5; total time=   0.0s\n",
      "[CV] END ............................alpha=0.7, l1_ratio=0.7; total time=   0.0s\n",
      "[CV] END ............................alpha=0.7, l1_ratio=0.7; total time=   0.0s\n",
      "[CV] END ............................alpha=0.7, l1_ratio=0.7; total time=   0.0s\n",
      "[CV] END ............................alpha=0.7, l1_ratio=0.7; total time=   0.0s\n",
      "[CV] END ............................alpha=0.7, l1_ratio=0.7; total time=   0.0s\n",
      "[CV] END ............................alpha=0.7, l1_ratio=0.9; total time=   0.0s\n",
      "[CV] END ............................alpha=0.7, l1_ratio=0.9; total time=   0.0s\n",
      "[CV] END ............................alpha=0.7, l1_ratio=0.9; total time=   0.0s\n",
      "[CV] END ............................alpha=0.7, l1_ratio=0.9; total time=   0.0s\n",
      "[CV] END ............................alpha=0.7, l1_ratio=0.9; total time=   0.0s\n",
      "[CV] END ...........................alpha=0.7, l1_ratio=0.95; total time=   0.0s\n",
      "[CV] END ...........................alpha=0.7, l1_ratio=0.95; total time=   0.0s\n",
      "[CV] END ...........................alpha=0.7, l1_ratio=0.95; total time=   0.0s\n",
      "[CV] END ...........................alpha=0.7, l1_ratio=0.95; total time=   0.0s\n",
      "[CV] END ...........................alpha=0.7, l1_ratio=0.95; total time=   0.0s\n",
      "[CV] END ...........................alpha=0.7, l1_ratio=0.99; total time=   0.0s\n",
      "[CV] END ...........................alpha=0.7, l1_ratio=0.99; total time=   0.0s\n",
      "[CV] END ...........................alpha=0.7, l1_ratio=0.99; total time=   0.0s\n",
      "[CV] END ...........................alpha=0.7, l1_ratio=0.99; total time=   0.0s\n",
      "[CV] END ...........................alpha=0.7, l1_ratio=0.99; total time=   0.0s\n",
      "[CV] END ..............................alpha=0.7, l1_ratio=1; total time=   0.0s\n",
      "[CV] END ..............................alpha=0.7, l1_ratio=1; total time=   0.0s\n",
      "[CV] END ..............................alpha=0.7, l1_ratio=1; total time=   0.0s\n",
      "[CV] END ..............................alpha=0.7, l1_ratio=1; total time=   0.0s\n",
      "[CV] END ..............................alpha=0.7, l1_ratio=1; total time=   0.0s\n",
      "[CV] END ..............................alpha=1, l1_ratio=0.1; total time=   0.0s\n",
      "[CV] END ..............................alpha=1, l1_ratio=0.1; total time=   0.0s\n",
      "[CV] END ..............................alpha=1, l1_ratio=0.1; total time=   0.0s\n",
      "[CV] END ..............................alpha=1, l1_ratio=0.1; total time=   0.0s\n",
      "[CV] END ..............................alpha=1, l1_ratio=0.1; total time=   0.0s\n",
      "[CV] END ..............................alpha=1, l1_ratio=0.5; total time=   0.0s\n",
      "[CV] END ..............................alpha=1, l1_ratio=0.5; total time=   0.0s\n",
      "[CV] END ..............................alpha=1, l1_ratio=0.5; total time=   0.0s\n",
      "[CV] END ..............................alpha=1, l1_ratio=0.5; total time=   0.0s\n",
      "[CV] END ..............................alpha=1, l1_ratio=0.5; total time=   0.0s\n",
      "[CV] END ..............................alpha=1, l1_ratio=0.7; total time=   0.0s\n",
      "[CV] END ..............................alpha=1, l1_ratio=0.7; total time=   0.0s\n",
      "[CV] END ..............................alpha=1, l1_ratio=0.7; total time=   0.0s\n",
      "[CV] END ..............................alpha=1, l1_ratio=0.7; total time=   0.0s\n",
      "[CV] END ..............................alpha=1, l1_ratio=0.7; total time=   0.0s\n",
      "[CV] END ..............................alpha=1, l1_ratio=0.9; total time=   0.0s\n",
      "[CV] END ..............................alpha=1, l1_ratio=0.9; total time=   0.0s\n",
      "[CV] END ..............................alpha=1, l1_ratio=0.9; total time=   0.0s\n",
      "[CV] END ..............................alpha=1, l1_ratio=0.9; total time=   0.0s\n",
      "[CV] END ..............................alpha=1, l1_ratio=0.9; total time=   0.0s\n",
      "[CV] END .............................alpha=1, l1_ratio=0.95; total time=   0.0s\n",
      "[CV] END .............................alpha=1, l1_ratio=0.95; total time=   0.0s\n",
      "[CV] END .............................alpha=1, l1_ratio=0.95; total time=   0.0s\n",
      "[CV] END .............................alpha=1, l1_ratio=0.95; total time=   0.0s\n",
      "[CV] END .............................alpha=1, l1_ratio=0.95; total time=   0.0s\n",
      "[CV] END .............................alpha=1, l1_ratio=0.99; total time=   0.0s\n",
      "[CV] END .............................alpha=1, l1_ratio=0.99; total time=   0.0s\n",
      "[CV] END .............................alpha=1, l1_ratio=0.99; total time=   0.0s\n",
      "[CV] END .............................alpha=1, l1_ratio=0.99; total time=   0.0s\n",
      "[CV] END .............................alpha=1, l1_ratio=0.99; total time=   0.0s\n",
      "[CV] END ................................alpha=1, l1_ratio=1; total time=   0.0s\n",
      "[CV] END ................................alpha=1, l1_ratio=1; total time=   0.0s\n",
      "[CV] END ................................alpha=1, l1_ratio=1; total time=   0.0s\n",
      "[CV] END ................................alpha=1, l1_ratio=1; total time=   0.0s\n",
      "[CV] END ................................alpha=1, l1_ratio=1; total time=   0.0s\n"
     ]
    },
    {
     "data": {
      "text/plain": [
       "GridSearchCV(cv=5, estimator=ElasticNet(max_iter=10000, random_state=42),\n",
       "             param_grid={'alpha': [0.01, 0.012, 0.2, 0.5, 0.6, 0.7, 1],\n",
       "                         'l1_ratio': [0.1, 0.5, 0.7, 0.9, 0.95, 0.99, 1]},\n",
       "             scoring='neg_root_mean_squared_error', verbose=2)"
      ]
     },
     "execution_count": 984,
     "metadata": {},
     "output_type": "execute_result"
    }
   ],
   "source": [
    "grid_model.fit(X_train_scaled, y_train)"
   ]
  },
  {
   "cell_type": "code",
   "execution_count": 985,
   "id": "6c0cee49",
   "metadata": {},
   "outputs": [
    {
     "data": {
      "text/plain": [
       "{'alpha': 1, 'l1_ratio': 1}"
      ]
     },
     "execution_count": 985,
     "metadata": {},
     "output_type": "execute_result"
    }
   ],
   "source": [
    "grid_model.best_params_"
   ]
  },
  {
   "cell_type": "code",
   "execution_count": 986,
   "id": "04dc1f05",
   "metadata": {},
   "outputs": [
    {
     "data": {
      "text/plain": [
       "-2801.569188931171"
      ]
     },
     "execution_count": 986,
     "metadata": {},
     "output_type": "execute_result"
    }
   ],
   "source": [
    "grid_model.best_score_"
   ]
  },
  {
   "cell_type": "code",
   "execution_count": null,
   "id": "5816fab6",
   "metadata": {},
   "outputs": [],
   "source": []
  },
  {
   "cell_type": "markdown",
   "id": "8e4be1e1",
   "metadata": {},
   "source": [
    "# Final"
   ]
  },
  {
   "cell_type": "code",
   "execution_count": 987,
   "id": "0e39cd74",
   "metadata": {
    "scrolled": true
   },
   "outputs": [
    {
     "data": {
      "text/html": [
       "<div>\n",
       "<style scoped>\n",
       "    .dataframe tbody tr th:only-of-type {\n",
       "        vertical-align: middle;\n",
       "    }\n",
       "\n",
       "    .dataframe tbody tr th {\n",
       "        vertical-align: top;\n",
       "    }\n",
       "\n",
       "    .dataframe thead th {\n",
       "        text-align: right;\n",
       "    }\n",
       "</style>\n",
       "<table border=\"1\" class=\"dataframe\">\n",
       "  <thead>\n",
       "    <tr style=\"text-align: right;\">\n",
       "      <th></th>\n",
       "      <th>age</th>\n",
       "      <th>bmi</th>\n",
       "      <th>children</th>\n",
       "      <th>sex_female</th>\n",
       "      <th>sex_male</th>\n",
       "      <th>smoker_no</th>\n",
       "      <th>smoker_yes</th>\n",
       "      <th>region_northeast</th>\n",
       "      <th>region_northwest</th>\n",
       "      <th>region_southeast</th>\n",
       "      <th>region_southwest</th>\n",
       "    </tr>\n",
       "  </thead>\n",
       "  <tbody>\n",
       "    <tr>\n",
       "      <th>0</th>\n",
       "      <td>39.296556</td>\n",
       "      <td>29.978109</td>\n",
       "      <td>4</td>\n",
       "      <td>0</td>\n",
       "      <td>1</td>\n",
       "      <td>1</td>\n",
       "      <td>0</td>\n",
       "      <td>0</td>\n",
       "      <td>1</td>\n",
       "      <td>0</td>\n",
       "      <td>0</td>\n",
       "    </tr>\n",
       "    <tr>\n",
       "      <th>1</th>\n",
       "      <td>40.367560</td>\n",
       "      <td>27.927669</td>\n",
       "      <td>5</td>\n",
       "      <td>1</td>\n",
       "      <td>0</td>\n",
       "      <td>1</td>\n",
       "      <td>0</td>\n",
       "      <td>0</td>\n",
       "      <td>0</td>\n",
       "      <td>1</td>\n",
       "      <td>0</td>\n",
       "    </tr>\n",
       "    <tr>\n",
       "      <th>2</th>\n",
       "      <td>32.881563</td>\n",
       "      <td>41.576865</td>\n",
       "      <td>5</td>\n",
       "      <td>0</td>\n",
       "      <td>1</td>\n",
       "      <td>1</td>\n",
       "      <td>0</td>\n",
       "      <td>0</td>\n",
       "      <td>0</td>\n",
       "      <td>0</td>\n",
       "      <td>1</td>\n",
       "    </tr>\n",
       "    <tr>\n",
       "      <th>3</th>\n",
       "      <td>62.000000</td>\n",
       "      <td>30.495000</td>\n",
       "      <td>2</td>\n",
       "      <td>1</td>\n",
       "      <td>0</td>\n",
       "      <td>1</td>\n",
       "      <td>0</td>\n",
       "      <td>0</td>\n",
       "      <td>1</td>\n",
       "      <td>0</td>\n",
       "      <td>0</td>\n",
       "    </tr>\n",
       "    <tr>\n",
       "      <th>4</th>\n",
       "      <td>32.476173</td>\n",
       "      <td>30.322774</td>\n",
       "      <td>4</td>\n",
       "      <td>0</td>\n",
       "      <td>1</td>\n",
       "      <td>0</td>\n",
       "      <td>1</td>\n",
       "      <td>1</td>\n",
       "      <td>0</td>\n",
       "      <td>0</td>\n",
       "      <td>0</td>\n",
       "    </tr>\n",
       "    <tr>\n",
       "      <th>...</th>\n",
       "      <td>...</td>\n",
       "      <td>...</td>\n",
       "      <td>...</td>\n",
       "      <td>...</td>\n",
       "      <td>...</td>\n",
       "      <td>...</td>\n",
       "      <td>...</td>\n",
       "      <td>...</td>\n",
       "      <td>...</td>\n",
       "      <td>...</td>\n",
       "      <td>...</td>\n",
       "    </tr>\n",
       "    <tr>\n",
       "      <th>446</th>\n",
       "      <td>43.000000</td>\n",
       "      <td>35.531966</td>\n",
       "      <td>2</td>\n",
       "      <td>0</td>\n",
       "      <td>1</td>\n",
       "      <td>0</td>\n",
       "      <td>1</td>\n",
       "      <td>0</td>\n",
       "      <td>0</td>\n",
       "      <td>1</td>\n",
       "      <td>0</td>\n",
       "    </tr>\n",
       "    <tr>\n",
       "      <th>447</th>\n",
       "      <td>31.374148</td>\n",
       "      <td>28.278549</td>\n",
       "      <td>4</td>\n",
       "      <td>0</td>\n",
       "      <td>1</td>\n",
       "      <td>1</td>\n",
       "      <td>0</td>\n",
       "      <td>1</td>\n",
       "      <td>0</td>\n",
       "      <td>0</td>\n",
       "      <td>0</td>\n",
       "    </tr>\n",
       "    <tr>\n",
       "      <th>448</th>\n",
       "      <td>50.370750</td>\n",
       "      <td>26.766297</td>\n",
       "      <td>4</td>\n",
       "      <td>1</td>\n",
       "      <td>0</td>\n",
       "      <td>1</td>\n",
       "      <td>0</td>\n",
       "      <td>0</td>\n",
       "      <td>1</td>\n",
       "      <td>0</td>\n",
       "      <td>0</td>\n",
       "    </tr>\n",
       "    <tr>\n",
       "      <th>449</th>\n",
       "      <td>49.201678</td>\n",
       "      <td>31.396840</td>\n",
       "      <td>4</td>\n",
       "      <td>1</td>\n",
       "      <td>0</td>\n",
       "      <td>1</td>\n",
       "      <td>0</td>\n",
       "      <td>0</td>\n",
       "      <td>1</td>\n",
       "      <td>0</td>\n",
       "      <td>0</td>\n",
       "    </tr>\n",
       "    <tr>\n",
       "      <th>450</th>\n",
       "      <td>49.000000</td>\n",
       "      <td>30.900000</td>\n",
       "      <td>0</td>\n",
       "      <td>0</td>\n",
       "      <td>1</td>\n",
       "      <td>0</td>\n",
       "      <td>1</td>\n",
       "      <td>0</td>\n",
       "      <td>0</td>\n",
       "      <td>0</td>\n",
       "      <td>1</td>\n",
       "    </tr>\n",
       "  </tbody>\n",
       "</table>\n",
       "<p>451 rows × 11 columns</p>\n",
       "</div>"
      ],
      "text/plain": [
       "           age        bmi  children  sex_female  sex_male  smoker_no  \\\n",
       "0    39.296556  29.978109         4           0         1          1   \n",
       "1    40.367560  27.927669         5           1         0          1   \n",
       "2    32.881563  41.576865         5           0         1          1   \n",
       "3    62.000000  30.495000         2           1         0          1   \n",
       "4    32.476173  30.322774         4           0         1          0   \n",
       "..         ...        ...       ...         ...       ...        ...   \n",
       "446  43.000000  35.531966         2           0         1          0   \n",
       "447  31.374148  28.278549         4           0         1          1   \n",
       "448  50.370750  26.766297         4           1         0          1   \n",
       "449  49.201678  31.396840         4           1         0          1   \n",
       "450  49.000000  30.900000         0           0         1          0   \n",
       "\n",
       "     smoker_yes  region_northeast  region_northwest  region_southeast  \\\n",
       "0             0                 0                 1                 0   \n",
       "1             0                 0                 0                 1   \n",
       "2             0                 0                 0                 0   \n",
       "3             0                 0                 1                 0   \n",
       "4             1                 1                 0                 0   \n",
       "..          ...               ...               ...               ...   \n",
       "446           1                 0                 0                 1   \n",
       "447           0                 1                 0                 0   \n",
       "448           0                 0                 1                 0   \n",
       "449           0                 0                 1                 0   \n",
       "450           1                 0                 0                 0   \n",
       "\n",
       "     region_southwest  \n",
       "0                   0  \n",
       "1                   0  \n",
       "2                   1  \n",
       "3                   0  \n",
       "4                   0  \n",
       "..                ...  \n",
       "446                 0  \n",
       "447                 0  \n",
       "448                 0  \n",
       "449                 0  \n",
       "450                 1  \n",
       "\n",
       "[451 rows x 11 columns]"
      ]
     },
     "execution_count": 987,
     "metadata": {},
     "output_type": "execute_result"
    }
   ],
   "source": [
    "df_test"
   ]
  },
  {
   "cell_type": "code",
   "execution_count": 988,
   "id": "40d15ac8",
   "metadata": {},
   "outputs": [
    {
     "data": {
      "text/plain": [
       "5    84\n",
       "3    77\n",
       "0    75\n",
       "1    74\n",
       "4    73\n",
       "2    68\n",
       "Name: children, dtype: int64"
      ]
     },
     "execution_count": 988,
     "metadata": {},
     "output_type": "execute_result"
    }
   ],
   "source": [
    "df_test.children.value_counts()"
   ]
  },
  {
   "cell_type": "code",
   "execution_count": 989,
   "id": "7efd0fc9",
   "metadata": {},
   "outputs": [
    {
     "name": "stderr",
     "output_type": "stream",
     "text": [
      "C:\\Users\\yavuz\\anaconda3\\envs\\notebook\\lib\\site-packages\\seaborn\\_decorators.py:36: FutureWarning: Pass the following variable as a keyword arg: x. From version 0.12, the only valid positional argument will be `data`, and passing other arguments without an explicit keyword will result in an error or misinterpretation.\n",
      "  warnings.warn(\n"
     ]
    },
    {
     "data": {
      "text/plain": [
       "<AxesSubplot:xlabel='bmi'>"
      ]
     },
     "execution_count": 989,
     "metadata": {},
     "output_type": "execute_result"
    },
    {
     "data": {
      "image/png": "[encoded data removed]",
      "text/plain": [
       "<Figure size 720x432 with 1 Axes>"
      ]
     },
     "metadata": {
      "needs_background": "light"
     },
     "output_type": "display_data"
    }
   ],
   "source": [
    "sns.boxplot(df_test.bmi)"
   ]
  },
  {
   "cell_type": "code",
   "execution_count": 990,
   "id": "c8464c5b",
   "metadata": {
    "scrolled": true
   },
   "outputs": [
    {
     "name": "stderr",
     "output_type": "stream",
     "text": [
      "C:\\Users\\yavuz\\anaconda3\\envs\\notebook\\lib\\site-packages\\seaborn\\_decorators.py:36: FutureWarning: Pass the following variable as a keyword arg: x. From version 0.12, the only valid positional argument will be `data`, and passing other arguments without an explicit keyword will result in an error or misinterpretation.\n",
      "  warnings.warn(\n"
     ]
    },
    {
     "data": {
      "text/plain": [
       "<AxesSubplot:xlabel='age'>"
      ]
     },
     "execution_count": 990,
     "metadata": {},
     "output_type": "execute_result"
    },
    {
     "data": {
      "image/png": "[encoded data removed]",
      "text/plain": [
       "<Figure size 720x432 with 1 Axes>"
      ]
     },
     "metadata": {
      "needs_background": "light"
     },
     "output_type": "display_data"
    }
   ],
   "source": [
    "sns.boxplot(df_test.age)"
   ]
  },
  {
   "cell_type": "code",
   "execution_count": 991,
   "id": "0628c8a1",
   "metadata": {},
   "outputs": [],
   "source": [
    "df_test[\"age\"]=df_test.age.round()"
   ]
  },
  {
   "cell_type": "code",
   "execution_count": 992,
   "id": "be08dc0f",
   "metadata": {},
   "outputs": [],
   "source": [
    "df_test_scaled=scaler.transform(df_test)"
   ]
  },
  {
   "cell_type": "code",
   "execution_count": 993,
   "id": "4c205030",
   "metadata": {
    "scrolled": true
   },
   "outputs": [
    {
     "data": {
      "text/plain": [
       "0       9354.189022\n",
       "1       9970.872457\n",
       "2       8332.275652\n",
       "3      12831.822084\n",
       "4      22153.769758\n",
       "           ...     \n",
       "446    20653.668654\n",
       "447     9741.215166\n",
       "448    11682.287091\n",
       "449    11453.846599\n",
       "450    20248.351403\n",
       "Length: 451, dtype: float64"
      ]
     },
     "execution_count": 993,
     "metadata": {},
     "output_type": "execute_result"
    }
   ],
   "source": [
    "y_fin_pred=grid_model.predict(df_test_scaled)\n",
    "pd.Series(y_fin_pred)"
   ]
  },
  {
   "cell_type": "code",
   "execution_count": null,
   "id": "67b16363",
   "metadata": {},
   "outputs": [],
   "source": []
  },
  {
   "cell_type": "code",
   "execution_count": 994,
   "id": "67e629bb",
   "metadata": {},
   "outputs": [],
   "source": [
    "df_test[\"y_fin_pred\"]=y_fin_pred"
   ]
  },
  {
   "cell_type": "code",
   "execution_count": 995,
   "id": "c3aeaefe",
   "metadata": {},
   "outputs": [],
   "source": [
    "C9264=df_test"
   ]
  },
  {
   "cell_type": "code",
   "execution_count": 996,
   "id": "a8d2513c",
   "metadata": {},
   "outputs": [
    {
     "data": {
      "text/html": [
       "<div>\n",
       "<style scoped>\n",
       "    .dataframe tbody tr th:only-of-type {\n",
       "        vertical-align: middle;\n",
       "    }\n",
       "\n",
       "    .dataframe tbody tr th {\n",
       "        vertical-align: top;\n",
       "    }\n",
       "\n",
       "    .dataframe thead th {\n",
       "        text-align: right;\n",
       "    }\n",
       "</style>\n",
       "<table border=\"1\" class=\"dataframe\">\n",
       "  <thead>\n",
       "    <tr style=\"text-align: right;\">\n",
       "      <th></th>\n",
       "      <th>age</th>\n",
       "      <th>bmi</th>\n",
       "      <th>children</th>\n",
       "      <th>sex_female</th>\n",
       "      <th>sex_male</th>\n",
       "      <th>smoker_no</th>\n",
       "      <th>smoker_yes</th>\n",
       "      <th>region_northeast</th>\n",
       "      <th>region_northwest</th>\n",
       "      <th>region_southeast</th>\n",
       "      <th>region_southwest</th>\n",
       "      <th>y_fin_pred</th>\n",
       "    </tr>\n",
       "  </thead>\n",
       "  <tbody>\n",
       "    <tr>\n",
       "      <th>0</th>\n",
       "      <td>39.0</td>\n",
       "      <td>29.978109</td>\n",
       "      <td>4</td>\n",
       "      <td>0</td>\n",
       "      <td>1</td>\n",
       "      <td>1</td>\n",
       "      <td>0</td>\n",
       "      <td>0</td>\n",
       "      <td>1</td>\n",
       "      <td>0</td>\n",
       "      <td>0</td>\n",
       "      <td>9354.189022</td>\n",
       "    </tr>\n",
       "    <tr>\n",
       "      <th>1</th>\n",
       "      <td>40.0</td>\n",
       "      <td>27.927669</td>\n",
       "      <td>5</td>\n",
       "      <td>1</td>\n",
       "      <td>0</td>\n",
       "      <td>1</td>\n",
       "      <td>0</td>\n",
       "      <td>0</td>\n",
       "      <td>0</td>\n",
       "      <td>1</td>\n",
       "      <td>0</td>\n",
       "      <td>9970.872457</td>\n",
       "    </tr>\n",
       "    <tr>\n",
       "      <th>2</th>\n",
       "      <td>33.0</td>\n",
       "      <td>41.576865</td>\n",
       "      <td>5</td>\n",
       "      <td>0</td>\n",
       "      <td>1</td>\n",
       "      <td>1</td>\n",
       "      <td>0</td>\n",
       "      <td>0</td>\n",
       "      <td>0</td>\n",
       "      <td>0</td>\n",
       "      <td>1</td>\n",
       "      <td>8332.275652</td>\n",
       "    </tr>\n",
       "    <tr>\n",
       "      <th>3</th>\n",
       "      <td>62.0</td>\n",
       "      <td>30.495000</td>\n",
       "      <td>2</td>\n",
       "      <td>1</td>\n",
       "      <td>0</td>\n",
       "      <td>1</td>\n",
       "      <td>0</td>\n",
       "      <td>0</td>\n",
       "      <td>1</td>\n",
       "      <td>0</td>\n",
       "      <td>0</td>\n",
       "      <td>12831.822084</td>\n",
       "    </tr>\n",
       "    <tr>\n",
       "      <th>4</th>\n",
       "      <td>32.0</td>\n",
       "      <td>30.322774</td>\n",
       "      <td>4</td>\n",
       "      <td>0</td>\n",
       "      <td>1</td>\n",
       "      <td>0</td>\n",
       "      <td>1</td>\n",
       "      <td>1</td>\n",
       "      <td>0</td>\n",
       "      <td>0</td>\n",
       "      <td>0</td>\n",
       "      <td>22153.769758</td>\n",
       "    </tr>\n",
       "    <tr>\n",
       "      <th>5</th>\n",
       "      <td>22.0</td>\n",
       "      <td>32.305187</td>\n",
       "      <td>5</td>\n",
       "      <td>0</td>\n",
       "      <td>1</td>\n",
       "      <td>1</td>\n",
       "      <td>0</td>\n",
       "      <td>1</td>\n",
       "      <td>0</td>\n",
       "      <td>0</td>\n",
       "      <td>0</td>\n",
       "      <td>8486.048155</td>\n",
       "    </tr>\n",
       "    <tr>\n",
       "      <th>6</th>\n",
       "      <td>46.0</td>\n",
       "      <td>34.097296</td>\n",
       "      <td>3</td>\n",
       "      <td>0</td>\n",
       "      <td>1</td>\n",
       "      <td>1</td>\n",
       "      <td>0</td>\n",
       "      <td>0</td>\n",
       "      <td>1</td>\n",
       "      <td>0</td>\n",
       "      <td>0</td>\n",
       "      <td>10153.161152</td>\n",
       "    </tr>\n",
       "    <tr>\n",
       "      <th>7</th>\n",
       "      <td>39.0</td>\n",
       "      <td>25.238490</td>\n",
       "      <td>5</td>\n",
       "      <td>0</td>\n",
       "      <td>1</td>\n",
       "      <td>1</td>\n",
       "      <td>0</td>\n",
       "      <td>0</td>\n",
       "      <td>0</td>\n",
       "      <td>1</td>\n",
       "      <td>0</td>\n",
       "      <td>9902.322655</td>\n",
       "    </tr>\n",
       "    <tr>\n",
       "      <th>8</th>\n",
       "      <td>42.0</td>\n",
       "      <td>31.214778</td>\n",
       "      <td>5</td>\n",
       "      <td>0</td>\n",
       "      <td>1</td>\n",
       "      <td>1</td>\n",
       "      <td>0</td>\n",
       "      <td>0</td>\n",
       "      <td>0</td>\n",
       "      <td>1</td>\n",
       "      <td>0</td>\n",
       "      <td>10575.421465</td>\n",
       "    </tr>\n",
       "    <tr>\n",
       "      <th>9</th>\n",
       "      <td>19.0</td>\n",
       "      <td>25.555000</td>\n",
       "      <td>0</td>\n",
       "      <td>0</td>\n",
       "      <td>1</td>\n",
       "      <td>1</td>\n",
       "      <td>0</td>\n",
       "      <td>0</td>\n",
       "      <td>1</td>\n",
       "      <td>0</td>\n",
       "      <td>0</td>\n",
       "      <td>1734.528655</td>\n",
       "    </tr>\n",
       "  </tbody>\n",
       "</table>\n",
       "</div>"
      ],
      "text/plain": [
       "    age        bmi  children  sex_female  sex_male  smoker_no  smoker_yes  \\\n",
       "0  39.0  29.978109         4           0         1          1           0   \n",
       "1  40.0  27.927669         5           1         0          1           0   \n",
       "2  33.0  41.576865         5           0         1          1           0   \n",
       "3  62.0  30.495000         2           1         0          1           0   \n",
       "4  32.0  30.322774         4           0         1          0           1   \n",
       "5  22.0  32.305187         5           0         1          1           0   \n",
       "6  46.0  34.097296         3           0         1          1           0   \n",
       "7  39.0  25.238490         5           0         1          1           0   \n",
       "8  42.0  31.214778         5           0         1          1           0   \n",
       "9  19.0  25.555000         0           0         1          1           0   \n",
       "\n",
       "   region_northeast  region_northwest  region_southeast  region_southwest  \\\n",
       "0                 0                 1                 0                 0   \n",
       "1                 0                 0                 1                 0   \n",
       "2                 0                 0                 0                 1   \n",
       "3                 0                 1                 0                 0   \n",
       "4                 1                 0                 0                 0   \n",
       "5                 1                 0                 0                 0   \n",
       "6                 0                 1                 0                 0   \n",
       "7                 0                 0                 1                 0   \n",
       "8                 0                 0                 1                 0   \n",
       "9                 0                 1                 0                 0   \n",
       "\n",
       "     y_fin_pred  \n",
       "0   9354.189022  \n",
       "1   9970.872457  \n",
       "2   8332.275652  \n",
       "3  12831.822084  \n",
       "4  22153.769758  \n",
       "5   8486.048155  \n",
       "6  10153.161152  \n",
       "7   9902.322655  \n",
       "8  10575.421465  \n",
       "9   1734.528655  "
      ]
     },
     "execution_count": 996,
     "metadata": {},
     "output_type": "execute_result"
    }
   ],
   "source": [
    "df_test.head(10)"
   ]
  },
  {
   "cell_type": "code",
   "execution_count": 997,
   "id": "53eb181e",
   "metadata": {},
   "outputs": [],
   "source": [
    "df_test.to_csv(\"C9264.csv\", index=False)"
   ]
  },
  {
   "cell_type": "code",
   "execution_count": null,
   "id": "9c6fefcb",
   "metadata": {},
   "outputs": [],
   "source": []
  }
 ],
 "metadata": {
  "kernelspec": {
   "display_name": "Python 3 (ipykernel)",
   "language": "python",
   "name": "python3"
  },
  "language_info": {
   "codemirror_mode": {
    "name": "ipython",
    "version": 3
   },
   "file_extension": ".py",
   "mimetype": "text/x-python",
   "name": "python",
   "nbconvert_exporter": "python",
   "pygments_lexer": "ipython3",
   "version": "3.9.7"
  }
 },
 "nbformat": 4,
 "nbformat_minor": 5
}
